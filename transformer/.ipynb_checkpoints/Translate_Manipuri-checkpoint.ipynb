{
 "cells": [
  {
   "cell_type": "code",
   "execution_count": 1,
   "id": "2208f235-83c8-4786-8fac-53dfbd0e72e3",
   "metadata": {},
   "outputs": [
    {
     "name": "stderr",
     "output_type": "stream",
     "text": [
      "2024-01-12 15:17:00.671886: E external/local_xla/xla/stream_executor/cuda/cuda_dnn.cc:9261] Unable to register cuDNN factory: Attempting to register factory for plugin cuDNN when one has already been registered\n",
      "2024-01-12 15:17:00.671908: E external/local_xla/xla/stream_executor/cuda/cuda_fft.cc:607] Unable to register cuFFT factory: Attempting to register factory for plugin cuFFT when one has already been registered\n",
      "2024-01-12 15:17:00.672754: E external/local_xla/xla/stream_executor/cuda/cuda_blas.cc:1515] Unable to register cuBLAS factory: Attempting to register factory for plugin cuBLAS when one has already been registered\n",
      "2024-01-12 15:17:00.677631: I tensorflow/core/platform/cpu_feature_guard.cc:182] This TensorFlow binary is optimized to use available CPU instructions in performance-critical operations.\n",
      "To enable the following instructions: AVX2 FMA, in other operations, rebuild TensorFlow with the appropriate compiler flags.\n",
      "2024-01-12 15:17:01.246075: W tensorflow/compiler/tf2tensorrt/utils/py_utils.cc:38] TF-TRT Warning: Could not find TensorRT\n"
     ]
    }
   ],
   "source": [
    "import logging\n",
    "import time\n",
    "\n",
    "import numpy as np\n",
    "#import matplotlib.pyplot as plt\n",
    "\n",
    "import tensorflow_datasets as tfds\n",
    "import tensorflow as tf\n",
    "\n",
    "import tensorflow_text\n",
    "import sys"
   ]
  },
  {
   "cell_type": "code",
   "execution_count": 2,
   "id": "d93a8091-0bcb-4705-a34a-9e915dd00a07",
   "metadata": {},
   "outputs": [
    {
     "name": "stdout",
     "output_type": "stream",
     "text": [
      "File copied /home/surchand/projects/TranslateManipuri/data/master_data.xls\n",
      "Read 20019 rows, 21449 lines from data sheet 1\n",
      "Read 20034 rows, 22076 lines from data sheet 2\n",
      "Read 10111 rows, 11179 lines from data sheet 3\n",
      "Read 6540 rows, 1159 lines from data sheet 4\n",
      "File copied /home/surchand/projects/TranslateManipuri/data/master_data.xls\n",
      "Read 20019 rows, 21449 lines from data sheet 1\n",
      "Read 20034 rows, 22076 lines from data sheet 2\n",
      "Read 10111 rows, 11179 lines from data sheet 3\n",
      "Read 6540 rows, 1159 lines from data sheet 4\n"
     ]
    }
   ],
   "source": [
    "sys.path.append(\"/home/surchand/projects/TranslateManipuri/src\")\n",
    "from excel_to_text import generateData\n",
    "english_se, manipuri_se = generateData()"
   ]
  },
  {
   "cell_type": "code",
   "execution_count": 3,
   "id": "c27fbd12-9909-482c-bedb-3fd094a06986",
   "metadata": {},
   "outputs": [
    {
     "data": {
      "text/plain": [
       "55863"
      ]
     },
     "execution_count": 3,
     "metadata": {},
     "output_type": "execute_result"
    }
   ],
   "source": [
    "len(manipuri_se)"
   ]
  },
  {
   "cell_type": "code",
   "execution_count": 4,
   "id": "302abf34-7714-4df7-b4ca-11973c2e5b34",
   "metadata": {},
   "outputs": [
    {
     "name": "stderr",
     "output_type": "stream",
     "text": [
      "2024-01-12 15:17:35.937669: I external/local_xla/xla/stream_executor/cuda/cuda_executor.cc:901] successful NUMA node read from SysFS had negative value (-1), but there must be at least one NUMA node, so returning NUMA node zero. See more at https://github.com/torvalds/linux/blob/v6.0/Documentation/ABI/testing/sysfs-bus-pci#L344-L355\n",
      "2024-01-12 15:17:35.968078: I external/local_xla/xla/stream_executor/cuda/cuda_executor.cc:901] successful NUMA node read from SysFS had negative value (-1), but there must be at least one NUMA node, so returning NUMA node zero. See more at https://github.com/torvalds/linux/blob/v6.0/Documentation/ABI/testing/sysfs-bus-pci#L344-L355\n",
      "2024-01-12 15:17:35.968248: I external/local_xla/xla/stream_executor/cuda/cuda_executor.cc:901] successful NUMA node read from SysFS had negative value (-1), but there must be at least one NUMA node, so returning NUMA node zero. See more at https://github.com/torvalds/linux/blob/v6.0/Documentation/ABI/testing/sysfs-bus-pci#L344-L355\n",
      "2024-01-12 15:17:35.969443: I external/local_xla/xla/stream_executor/cuda/cuda_executor.cc:901] successful NUMA node read from SysFS had negative value (-1), but there must be at least one NUMA node, so returning NUMA node zero. See more at https://github.com/torvalds/linux/blob/v6.0/Documentation/ABI/testing/sysfs-bus-pci#L344-L355\n",
      "2024-01-12 15:17:35.969588: I external/local_xla/xla/stream_executor/cuda/cuda_executor.cc:901] successful NUMA node read from SysFS had negative value (-1), but there must be at least one NUMA node, so returning NUMA node zero. See more at https://github.com/torvalds/linux/blob/v6.0/Documentation/ABI/testing/sysfs-bus-pci#L344-L355\n",
      "2024-01-12 15:17:35.969719: I external/local_xla/xla/stream_executor/cuda/cuda_executor.cc:901] successful NUMA node read from SysFS had negative value (-1), but there must be at least one NUMA node, so returning NUMA node zero. See more at https://github.com/torvalds/linux/blob/v6.0/Documentation/ABI/testing/sysfs-bus-pci#L344-L355\n",
      "2024-01-12 15:17:36.021441: I external/local_xla/xla/stream_executor/cuda/cuda_executor.cc:901] successful NUMA node read from SysFS had negative value (-1), but there must be at least one NUMA node, so returning NUMA node zero. See more at https://github.com/torvalds/linux/blob/v6.0/Documentation/ABI/testing/sysfs-bus-pci#L344-L355\n",
      "2024-01-12 15:17:36.021609: I external/local_xla/xla/stream_executor/cuda/cuda_executor.cc:901] successful NUMA node read from SysFS had negative value (-1), but there must be at least one NUMA node, so returning NUMA node zero. See more at https://github.com/torvalds/linux/blob/v6.0/Documentation/ABI/testing/sysfs-bus-pci#L344-L355\n",
      "2024-01-12 15:17:36.021702: W tensorflow/core/common_runtime/gpu/gpu_bfc_allocator.cc:47] Overriding orig_value setting because the TF_FORCE_GPU_ALLOW_GROWTH environment variable is set. Original config value was 0.\n",
      "2024-01-12 15:17:36.021751: I external/local_xla/xla/stream_executor/cuda/cuda_executor.cc:901] successful NUMA node read from SysFS had negative value (-1), but there must be at least one NUMA node, so returning NUMA node zero. See more at https://github.com/torvalds/linux/blob/v6.0/Documentation/ABI/testing/sysfs-bus-pci#L344-L355\n",
      "2024-01-12 15:17:36.021849: I tensorflow/core/common_runtime/gpu/gpu_device.cc:1929] Created device /job:localhost/replica:0/task:0/device:GPU:0 with 6006 MB memory:  -> device: 0, name: NVIDIA GeForce RTX 2070, pci bus id: 0000:01:00.0, compute capability: 7.5\n"
     ]
    }
   ],
   "source": [
    "train_val_pc = 0.95\n",
    "total_data = len(manipuri_se)\n",
    "split_len = tf.cast(total_data * train_val_pc, tf.int32)\n",
    "split_len\n",
    "train_mn, val_mn = manipuri_se[:split_len], manipuri_se[split_len:]\n",
    "train_en, val_en = english_se[:split_len], english_se[split_len:]\n",
    "train_examples = tf.data.Dataset.from_tensor_slices((train_en, train_mn))\n",
    "val_examples = tf.data.Dataset.from_tensor_slices((val_en, val_mn))"
   ]
  },
  {
   "cell_type": "code",
   "execution_count": 5,
   "id": "efaa1610-49e6-48dd-9335-b286e46fe0d3",
   "metadata": {},
   "outputs": [
    {
     "name": "stdout",
     "output_type": "stream",
     "text": [
      "> Examples in Manipuri:\n",
      "ꯑꯩ ꯄꯨꯡ ꯑꯃ ꯕꯁ ꯉꯥꯢꯔꯛꯂꯤ ꯫\n",
      "ꯇꯣꯝꯒꯤ ꯁꯥꯟꯅꯃꯤꯟꯅꯅꯕ ꯃꯃꯥꯟꯅꯕ ꯑꯃꯇ ꯂꯩꯇꯦ ꯫\n",
      "ꯑꯩꯅ ꯇꯣꯝ ꯆꯠꯍꯟꯈꯤ ꯫\n",
      "ꯇꯥꯢꯌꯔꯗꯨ ꯅꯨꯡꯁꯤꯠ ꯆꯠꯂꯤ ꯫\n",
      "ꯇꯣꯝꯅ ꯃꯍꯥꯛ ꯏꯅꯥꯛꯈꯨꯟꯕ ꯅꯤꯄꯥ ꯑꯃꯒꯤ ꯃꯆꯥꯅꯤ ꯍꯥꯢꯈꯤ ꯫\n",
      "\n",
      "> Examples in English:\n",
      "I've been waiting for the bus for an hour .\n",
      "Tom doesn't have any friends to play with .\n",
      "I made Tom go .\n",
      "The tire leaks air .\n",
      "Tom claimed he was the son of a rich man .\n"
     ]
    }
   ],
   "source": [
    "for en_examples, mn_examples in train_examples.batch(5).take(1):\n",
    "  print('> Examples in Manipuri:')\n",
    "  for mn in mn_examples.numpy():\n",
    "    print(mn.decode('utf-8'))\n",
    "  print()\n",
    "\n",
    "  print('> Examples in English:')\n",
    "  for en in en_examples.numpy():\n",
    "    print(en.decode('utf-8'))"
   ]
  },
  {
   "cell_type": "code",
   "execution_count": 6,
   "id": "92995cbc-a48e-4026-b073-6754657e93cf",
   "metadata": {},
   "outputs": [],
   "source": [
    "model_name = 'model_translate_mn_en_converter'\n",
    "tokenizers = tf.saved_model.load(model_name)"
   ]
  },
  {
   "cell_type": "code",
   "execution_count": 7,
   "id": "97d2624b-6a84-4ec0-bce4-60693c2ed104",
   "metadata": {},
   "outputs": [
    {
     "data": {
      "text/plain": [
       "['detokenize',\n",
       " 'get_reserved_tokens',\n",
       " 'get_vocab_path',\n",
       " 'get_vocab_size',\n",
       " 'lookup',\n",
       " 'tokenize',\n",
       " 'tokenizer',\n",
       " 'vocab']"
      ]
     },
     "execution_count": 7,
     "metadata": {},
     "output_type": "execute_result"
    }
   ],
   "source": [
    "[item for item in dir(tokenizers.mn) if not item.startswith('_')]"
   ]
  },
  {
   "cell_type": "code",
   "execution_count": 8,
   "id": "0308abac-c35a-4859-893f-ca75e99ce7ce",
   "metadata": {},
   "outputs": [
    {
     "name": "stdout",
     "output_type": "stream",
     "text": [
      "> This is a batch of strings:\n",
      "ꯑꯩ ꯄꯨꯡ ꯑꯃ ꯕꯁ ꯉꯥꯢꯔꯛꯂꯤ ꯫\n",
      "ꯇꯣꯝꯒꯤ ꯁꯥꯟꯅꯃꯤꯟꯅꯅꯕ ꯃꯃꯥꯟꯅꯕ ꯑꯃꯇ ꯂꯩꯇꯦ ꯫\n",
      "ꯑꯩꯅ ꯇꯣꯝ ꯆꯠꯍꯟꯈꯤ ꯫\n",
      "ꯇꯥꯢꯌꯔꯗꯨ ꯅꯨꯡꯁꯤꯠ ꯆꯠꯂꯤ ꯫\n",
      "ꯇꯣꯝꯅ ꯃꯍꯥꯛ ꯏꯅꯥꯛꯈꯨꯟꯕ ꯅꯤꯄꯥ ꯑꯃꯒꯤ ꯃꯆꯥꯅꯤ ꯍꯥꯢꯈꯤ ꯫\n"
     ]
    }
   ],
   "source": [
    "print('> This is a batch of strings:')\n",
    "for mn in mn_examples.numpy():\n",
    "  print(mn.decode('utf-8'))"
   ]
  },
  {
   "cell_type": "code",
   "execution_count": 9,
   "id": "0413ab04-5fe0-4cd4-a18e-85da8717a743",
   "metadata": {},
   "outputs": [
    {
     "name": "stdout",
     "output_type": "stream",
     "text": [
      "> This is a padded-batch of token IDs:\n",
      "[2, 93, 212, 101, 610, 3402, 80, 3]\n",
      "[2, 121, 884, 517, 701, 2445, 1438, 131, 153, 80, 3]\n",
      "[2, 97, 94, 1881, 80, 3]\n",
      "[2, 375, 2275, 123, 661, 262, 80, 3]\n",
      "[2, 96, 98, 1287, 551, 406, 630, 163, 80, 3]\n"
     ]
    }
   ],
   "source": [
    "encoded = tokenizers.mn.tokenize(mn_examples)\n",
    "\n",
    "print('> This is a padded-batch of token IDs:')\n",
    "for row in encoded.to_list():\n",
    "  print(row)"
   ]
  },
  {
   "cell_type": "code",
   "execution_count": 10,
   "id": "f081ddd1-72ec-44a8-a73c-3b25554e7920",
   "metadata": {},
   "outputs": [
    {
     "name": "stdout",
     "output_type": "stream",
     "text": [
      "> This is human-readable text:\n",
      "ꯑꯩ ꯄꯨꯡ ꯑꯃ ꯕꯁ ꯉꯥꯢꯔꯛꯂꯤ ꯫\n",
      "ꯇꯣꯝꯒꯤ ꯁꯥꯟꯅꯃꯤꯟꯅꯅꯕ ꯃꯃꯥꯟꯅꯕ ꯑꯃꯇ ꯂꯩꯇꯦ ꯫\n",
      "ꯑꯩꯅ ꯇꯣꯝ ꯆꯠꯍꯟꯈꯤ ꯫\n",
      "ꯇꯥꯢꯌꯔꯗꯨ ꯅꯨꯡꯁꯤꯠ ꯆꯠꯂꯤ ꯫\n",
      "ꯇꯣꯝꯅ ꯃꯍꯥꯛ ꯏꯅꯥꯛꯈꯨꯟꯕ ꯅꯤꯄꯥ ꯑꯃꯒꯤ ꯃꯆꯥꯅꯤ ꯍꯥꯢꯈꯤ ꯫\n"
     ]
    }
   ],
   "source": [
    "round_trip = tokenizers.mn.detokenize(encoded)\n",
    "\n",
    "print('> This is human-readable text:')\n",
    "for line in round_trip.numpy():\n",
    "  print(line.decode('utf-8'))"
   ]
  },
  {
   "cell_type": "code",
   "execution_count": 11,
   "id": "9ac1db42-b63a-4eed-99c3-f99a78e3eeec",
   "metadata": {},
   "outputs": [
    {
     "name": "stdout",
     "output_type": "stream",
     "text": [
      "> This is the text split into tokens:\n"
     ]
    },
    {
     "data": {
      "text/plain": [
       "<tf.RaggedTensor [[b'[START]', b'\\xea\\xaf\\x91\\xea\\xaf\\xa9',\n",
       "  b'\\xea\\xaf\\x84\\xea\\xaf\\xa8\\xea\\xaf\\xa1', b'\\xea\\xaf\\x91\\xea\\xaf\\x83',\n",
       "  b'\\xea\\xaf\\x95\\xea\\xaf\\x81',\n",
       "  b'\\xea\\xaf\\x89\\xea\\xaf\\xa5\\xea\\xaf\\xa2\\xea\\xaf\\x94\\xea\\xaf\\x9b\\xea\\xaf\\x82\\xea\\xaf\\xa4',\n",
       "  b'\\xea\\xaf\\xab', b'[END]']                                                              ,\n",
       " [b'[START]',\n",
       "  b'\\xea\\xaf\\x87\\xea\\xaf\\xa3\\xea\\xaf\\x9d\\xea\\xaf\\x92\\xea\\xaf\\xa4',\n",
       "  b'\\xea\\xaf\\x81\\xea\\xaf\\xa5', b'##\\xea\\xaf\\x9f\\xea\\xaf\\x85',\n",
       "  b'##\\xea\\xaf\\x83\\xea\\xaf\\xa4',\n",
       "  b'##\\xea\\xaf\\x9f\\xea\\xaf\\x85\\xea\\xaf\\x85\\xea\\xaf\\x95',\n",
       "  b'\\xea\\xaf\\x83\\xea\\xaf\\x83\\xea\\xaf\\xa5\\xea\\xaf\\x9f\\xea\\xaf\\x85\\xea\\xaf\\x95',\n",
       "  b'\\xea\\xaf\\x91\\xea\\xaf\\x83\\xea\\xaf\\x87',\n",
       "  b'\\xea\\xaf\\x82\\xea\\xaf\\xa9\\xea\\xaf\\x87\\xea\\xaf\\xa6', b'\\xea\\xaf\\xab',\n",
       "  b'[END]']                                                                   ,\n",
       " [b'[START]', b'\\xea\\xaf\\x91\\xea\\xaf\\xa9\\xea\\xaf\\x85',\n",
       "  b'\\xea\\xaf\\x87\\xea\\xaf\\xa3\\xea\\xaf\\x9d',\n",
       "  b'\\xea\\xaf\\x86\\xea\\xaf\\xa0\\xea\\xaf\\x8d\\xea\\xaf\\x9f\\xea\\xaf\\x88\\xea\\xaf\\xa4',\n",
       "  b'\\xea\\xaf\\xab', b'[END]']                                                  ,\n",
       " [b'[START]', b'\\xea\\xaf\\x87\\xea\\xaf\\xa5\\xea\\xaf\\xa2',\n",
       "  b'##\\xea\\xaf\\x8c\\xea\\xaf\\x94', b'##\\xea\\xaf\\x97\\xea\\xaf\\xa8',\n",
       "  b'\\xea\\xaf\\x85\\xea\\xaf\\xa8\\xea\\xaf\\xa1\\xea\\xaf\\x81\\xea\\xaf\\xa4\\xea\\xaf\\xa0',\n",
       "  b'\\xea\\xaf\\x86\\xea\\xaf\\xa0\\xea\\xaf\\x82\\xea\\xaf\\xa4', b'\\xea\\xaf\\xab',\n",
       "  b'[END]']                                                                   ,\n",
       " [b'[START]', b'\\xea\\xaf\\x87\\xea\\xaf\\xa3\\xea\\xaf\\x9d\\xea\\xaf\\x85',\n",
       "  b'\\xea\\xaf\\x83\\xea\\xaf\\x8d\\xea\\xaf\\xa5\\xea\\xaf\\x9b',\n",
       "  b'\\xea\\xaf\\x8f\\xea\\xaf\\x85\\xea\\xaf\\xa5\\xea\\xaf\\x9b\\xea\\xaf\\x88\\xea\\xaf\\xa8\\xea\\xaf\\x9f\\xea\\xaf\\x95',\n",
       "  b'\\xea\\xaf\\x85\\xea\\xaf\\xa4\\xea\\xaf\\x84\\xea\\xaf\\xa5',\n",
       "  b'\\xea\\xaf\\x91\\xea\\xaf\\x83\\xea\\xaf\\x92\\xea\\xaf\\xa4',\n",
       "  b'\\xea\\xaf\\x83\\xea\\xaf\\x86\\xea\\xaf\\xa5\\xea\\xaf\\x85\\xea\\xaf\\xa4',\n",
       "  b'\\xea\\xaf\\x8d\\xea\\xaf\\xa5\\xea\\xaf\\xa2\\xea\\xaf\\x88\\xea\\xaf\\xa4',\n",
       "  b'\\xea\\xaf\\xab', b'[END]']                                                                          ]>"
      ]
     },
     "execution_count": 11,
     "metadata": {},
     "output_type": "execute_result"
    }
   ],
   "source": [
    "print('> This is the text split into tokens:')\n",
    "tokens = tokenizers.mn.lookup(encoded)\n",
    "tokens"
   ]
  },
  {
   "cell_type": "code",
   "execution_count": 12,
   "id": "85ad588d-be3c-4e14-b769-0e82d6201fe0",
   "metadata": {},
   "outputs": [
    {
     "name": "stdout",
     "output_type": "stream",
     "text": [
      "...................................................."
     ]
    }
   ],
   "source": [
    "lengths = []\n",
    "\n",
    "for en_examples, mn_examples in train_examples.batch(1024):\n",
    "  en_tokens = tokenizers.en.tokenize(en_examples)\n",
    "  lengths.append(en_tokens.row_lengths())\n",
    "\n",
    "  mn_tokens = tokenizers.mn.tokenize(mn_examples)\n",
    "  lengths.append(mn_tokens.row_lengths())\n",
    "  print('.', end='', flush=True)"
   ]
  },
  {
   "cell_type": "code",
   "execution_count": 13,
   "id": "87a4e25a-c392-4a0f-a9e3-c864b073ef22",
   "metadata": {},
   "outputs": [
    {
     "ename": "NameError",
     "evalue": "name 'plt' is not defined",
     "output_type": "error",
     "traceback": [
      "\u001b[0;31m---------------------------------------------------------------------------\u001b[0m",
      "\u001b[0;31mNameError\u001b[0m                                 Traceback (most recent call last)",
      "Cell \u001b[0;32mIn[13], line 3\u001b[0m\n\u001b[1;32m      1\u001b[0m all_lengths \u001b[38;5;241m=\u001b[39m np\u001b[38;5;241m.\u001b[39mconcatenate(lengths)\n\u001b[0;32m----> 3\u001b[0m \u001b[43mplt\u001b[49m\u001b[38;5;241m.\u001b[39mhist(all_lengths, np\u001b[38;5;241m.\u001b[39mlinspace(\u001b[38;5;241m0\u001b[39m, \u001b[38;5;241m500\u001b[39m, \u001b[38;5;241m101\u001b[39m))\n\u001b[1;32m      4\u001b[0m plt\u001b[38;5;241m.\u001b[39mylim(plt\u001b[38;5;241m.\u001b[39mylim())\n\u001b[1;32m      5\u001b[0m max_length \u001b[38;5;241m=\u001b[39m \u001b[38;5;28mmax\u001b[39m(all_lengths)\n",
      "\u001b[0;31mNameError\u001b[0m: name 'plt' is not defined"
     ]
    }
   ],
   "source": [
    "all_lengths = np.concatenate(lengths)\n",
    "\n",
    "plt.hist(all_lengths, np.linspace(0, 500, 101))\n",
    "plt.ylim(plt.ylim())\n",
    "max_length = max(all_lengths)\n",
    "plt.plot([max_length, max_length], plt.ylim())\n",
    "plt.title(f'Maximum tokens per example: {max_length}');"
   ]
  },
  {
   "cell_type": "markdown",
   "id": "858f7ad0-2aed-4efa-9feb-0563bdb5fb17",
   "metadata": {},
   "source": [
    "**Setting up data pipeline:**"
   ]
  },
  {
   "cell_type": "code",
   "execution_count": 14,
   "id": "a7eeabf1-e79b-48da-b2eb-b2fbf1be0e62",
   "metadata": {},
   "outputs": [],
   "source": [
    "MAX_TOKENS=128\n",
    "def prepare_batch(en, mn):\n",
    "    en = tokenizers.en.tokenize(en)      # Output is ragged.\n",
    "    en = en[:, :MAX_TOKENS]    # Trim to MAX_TOKENS.\n",
    "    en = en.to_tensor()  # Convert to 0-padded dense Tensor\n",
    "\n",
    "    mn = tokenizers.mn.tokenize(mn)\n",
    "    mn = mn[:, :(MAX_TOKENS+1)]\n",
    "    mn_inputs = mn[:, :-1].to_tensor()  # Drop the [END] tokens\n",
    "    mn_labels = mn[:, 1:].to_tensor()   # Drop the [START] tokens\n",
    "\n",
    "    return (en, mn_inputs), mn_labels"
   ]
  },
  {
   "cell_type": "code",
   "execution_count": 15,
   "id": "2860c4af-0f9b-4e5a-b3b0-9cb78e166938",
   "metadata": {},
   "outputs": [],
   "source": [
    "BUFFER_SIZE = 25000\n",
    "BATCH_SIZE = 64"
   ]
  },
  {
   "cell_type": "code",
   "execution_count": 16,
   "id": "0eaac694-cf24-41dd-a103-fce263cf509e",
   "metadata": {},
   "outputs": [],
   "source": [
    "def make_batches(ds):\n",
    "  return (\n",
    "      ds\n",
    "      .shuffle(BUFFER_SIZE)\n",
    "      .batch(BATCH_SIZE)\n",
    "      .map(prepare_batch, tf.data.AUTOTUNE)\n",
    "      .prefetch(buffer_size=tf.data.AUTOTUNE))"
   ]
  },
  {
   "cell_type": "markdown",
   "id": "6762cf0f-4237-4e0a-b23f-20338393982a",
   "metadata": {},
   "source": [
    "**Test the Dataset**"
   ]
  },
  {
   "cell_type": "code",
   "execution_count": 17,
   "id": "9b609576-83e5-4571-84d8-1868d95dcab7",
   "metadata": {},
   "outputs": [],
   "source": [
    "# Create training and validation set batches.\n",
    "train_batches = make_batches(train_examples)\n",
    "val_batches = make_batches(val_examples)"
   ]
  },
  {
   "cell_type": "code",
   "execution_count": 18,
   "id": "0922801f-a7cc-4197-843e-2daf63492373",
   "metadata": {},
   "outputs": [
    {
     "name": "stdout",
     "output_type": "stream",
     "text": [
      "(64, 21)\n",
      "(64, 17)\n",
      "(64, 17)\n"
     ]
    }
   ],
   "source": [
    "for (en, mn), mn_labels in train_batches.take(1):\n",
    "  break\n",
    "\n",
    "print(en.shape)\n",
    "print(mn.shape)\n",
    "print(mn_labels.shape)"
   ]
  },
  {
   "cell_type": "code",
   "execution_count": 19,
   "id": "f13f18e7-2965-4ab8-8e36-94b855fc3fba",
   "metadata": {},
   "outputs": [
    {
     "name": "stdout",
     "output_type": "stream",
     "text": [
      "tf.Tensor([   2  138  856 1382  264 1913   95 1365  128   80], shape=(10,), dtype=int64)\n",
      "tf.Tensor([ 138  856 1382  264 1913   95 1365  128   80    3], shape=(10,), dtype=int64)\n"
     ]
    }
   ],
   "source": [
    "print(mn[0][:10])\n",
    "print(mn_labels[0][:10])"
   ]
  },
  {
   "cell_type": "code",
   "execution_count": 20,
   "id": "b6581532-97bc-4fd1-8f8a-2c2600af6b19",
   "metadata": {},
   "outputs": [],
   "source": [
    "def positional_encoding(length, depth):\n",
    "  depth = depth/2\n",
    "\n",
    "  positions = np.arange(length)[:, np.newaxis]     # (seq, 1)\n",
    "  depths = np.arange(depth)[np.newaxis, :]/depth   # (1, depth)\n",
    "\n",
    "  angle_rates = 1 / (10000**depths)         # (1, depth)\n",
    "  angle_rads = positions * angle_rates      # (pos, depth)\n",
    "\n",
    "  pos_encoding = np.concatenate(\n",
    "      [np.sin(angle_rads), np.cos(angle_rads)],\n",
    "      axis=-1) \n",
    "\n",
    "  return tf.cast(pos_encoding, dtype=tf.float32)"
   ]
  },
  {
   "cell_type": "code",
   "execution_count": 21,
   "id": "b65536e5-d6c8-4618-856a-73ece8f3ed37",
   "metadata": {},
   "outputs": [],
   "source": [
    "class PositionalEmbedding(tf.keras.layers.Layer):\n",
    "  def __init__(self, vocab_size, d_model):\n",
    "    super().__init__()\n",
    "    self.d_model = d_model\n",
    "    self.embedding = tf.keras.layers.Embedding(vocab_size, d_model, mask_zero=True) \n",
    "    self.pos_encoding = positional_encoding(length=2048, depth=d_model)\n",
    "\n",
    "  def compute_mask(self, *args, **kwargs):\n",
    "    return self.embedding.compute_mask(*args, **kwargs)\n",
    "\n",
    "  def call(self, x):\n",
    "    length = tf.shape(x)[1]\n",
    "    x = self.embedding(x)\n",
    "    # This factor sets the relative scale of the embedding and positonal_encoding.\n",
    "    x *= tf.math.sqrt(tf.cast(self.d_model, tf.float32))\n",
    "    x = x + self.pos_encoding[tf.newaxis, :length, :]\n",
    "    return x"
   ]
  },
  {
   "cell_type": "code",
   "execution_count": 22,
   "id": "10f76898-916c-4467-baf1-1da02b3a067a",
   "metadata": {},
   "outputs": [],
   "source": [
    "embed_en = PositionalEmbedding(vocab_size=tokenizers.en.get_vocab_size(), d_model=512)\n",
    "embed_mn = PositionalEmbedding(vocab_size=tokenizers.mn.get_vocab_size(), d_model=512)\n",
    "\n",
    "en_emb = embed_en(en)\n",
    "mn_emb = embed_mn(mn)"
   ]
  },
  {
   "cell_type": "markdown",
   "id": "a9c3c8d1-5ad4-47df-93f2-6fff4cd9323c",
   "metadata": {},
   "source": [
    "**The Base Attention layer**"
   ]
  },
  {
   "cell_type": "code",
   "execution_count": 23,
   "id": "c904fc55-0e92-498d-86de-c984f48957b8",
   "metadata": {},
   "outputs": [],
   "source": [
    "class BaseAttention(tf.keras.layers.Layer):\n",
    "  def __init__(self, **kwargs):\n",
    "    super().__init__()\n",
    "    self.mha = tf.keras.layers.MultiHeadAttention(**kwargs)\n",
    "    self.layernorm = tf.keras.layers.LayerNormalization()\n",
    "    self.add = tf.keras.layers.Add()"
   ]
  },
  {
   "cell_type": "code",
   "execution_count": 24,
   "id": "f126e5e0-63b4-438c-aec1-ab30d34b9b61",
   "metadata": {},
   "outputs": [],
   "source": [
    "class CrossAttention(BaseAttention):\n",
    "  def call(self, x, context):\n",
    "    attn_output, attn_scores = self.mha(\n",
    "        query=x,\n",
    "        key=context,\n",
    "        value=context,\n",
    "        return_attention_scores=True)\n",
    "\n",
    "    # Cache the attention scores for plotting later.\n",
    "    self.last_attn_scores = attn_scores\n",
    "\n",
    "    x = self.add([x, attn_output])\n",
    "    x = self.layernorm(x)\n",
    "\n",
    "    return x"
   ]
  },
  {
   "cell_type": "code",
   "execution_count": 25,
   "id": "6a5d582c-1f52-40c9-bdff-3af4601ed5c8",
   "metadata": {},
   "outputs": [
    {
     "name": "stdout",
     "output_type": "stream",
     "text": [
      "(64, 21, 512)\n",
      "(64, 17, 512)\n",
      "(64, 17, 512)\n"
     ]
    },
    {
     "name": "stderr",
     "output_type": "stream",
     "text": [
      "2024-01-12 15:19:05.599637: I external/local_xla/xla/stream_executor/cuda/cuda_dnn.cc:454] Loaded cuDNN version 8904\n"
     ]
    }
   ],
   "source": [
    "sample_ca = CrossAttention(num_heads=2, key_dim=512)\n",
    "\n",
    "print(en_emb.shape)\n",
    "print(mn_emb.shape)\n",
    "print(sample_ca(mn_emb, en_emb).shape)"
   ]
  },
  {
   "cell_type": "code",
   "execution_count": 26,
   "id": "13669555-1b81-48df-b1c6-45fd1fb63d4d",
   "metadata": {},
   "outputs": [],
   "source": [
    "class GlobalSelfAttention(BaseAttention):\n",
    "  def call(self, x):\n",
    "    attn_output = self.mha(\n",
    "        query=x,\n",
    "        value=x,\n",
    "        key=x)\n",
    "    x = self.add([x, attn_output])\n",
    "    x = self.layernorm(x)\n",
    "    return x"
   ]
  },
  {
   "cell_type": "code",
   "execution_count": 27,
   "id": "93b4bf09-66dd-4fc2-bef2-e93baf0fbdb1",
   "metadata": {},
   "outputs": [
    {
     "name": "stdout",
     "output_type": "stream",
     "text": [
      "(64, 21, 512)\n",
      "(64, 21, 512)\n"
     ]
    }
   ],
   "source": [
    "sample_gsa = GlobalSelfAttention(num_heads=2, key_dim=512)\n",
    "\n",
    "print(en_emb.shape)\n",
    "print(sample_gsa(en_emb).shape)"
   ]
  },
  {
   "cell_type": "code",
   "execution_count": 28,
   "id": "64990f5e-e7c3-4647-944b-3528a6469f78",
   "metadata": {},
   "outputs": [],
   "source": [
    "class CausalSelfAttention(BaseAttention):\n",
    "  def call(self, x):\n",
    "    attn_output = self.mha(\n",
    "        query=x,\n",
    "        value=x,\n",
    "        key=x,\n",
    "        use_causal_mask = True)\n",
    "    x = self.add([x, attn_output])\n",
    "    x = self.layernorm(x)\n",
    "    return x"
   ]
  },
  {
   "cell_type": "code",
   "execution_count": 29,
   "id": "5feacc5e-d3e3-40d0-979f-d1809950ce0b",
   "metadata": {},
   "outputs": [
    {
     "name": "stdout",
     "output_type": "stream",
     "text": [
      "(64, 17, 512)\n",
      "(64, 17, 512)\n"
     ]
    }
   ],
   "source": [
    "sample_csa = CausalSelfAttention(num_heads=2, key_dim=512)\n",
    "\n",
    "print(mn_emb.shape)\n",
    "print(sample_csa(mn_emb).shape)"
   ]
  },
  {
   "cell_type": "code",
   "execution_count": 30,
   "id": "0a828616-2ae9-4dda-b3cb-8c00e7e48ae3",
   "metadata": {},
   "outputs": [
    {
     "data": {
      "text/plain": [
       "5.9604645e-07"
      ]
     },
     "execution_count": 30,
     "metadata": {},
     "output_type": "execute_result"
    }
   ],
   "source": [
    "out1 = sample_csa(embed_mn(mn[:, :3])) \n",
    "out2 = sample_csa(embed_mn(mn))[:, :3]\n",
    "\n",
    "tf.reduce_max(abs(out1 - out2)).numpy()"
   ]
  },
  {
   "cell_type": "markdown",
   "id": "8f6c9d5e-ec8f-4c5d-8c8e-1a62a498130e",
   "metadata": {},
   "source": [
    "**The feed forward network**"
   ]
  },
  {
   "cell_type": "code",
   "execution_count": 31,
   "id": "dd5a97db-4a62-4eb5-9365-31931b37e62d",
   "metadata": {},
   "outputs": [],
   "source": [
    "class FeedForward(tf.keras.layers.Layer):\n",
    "  def __init__(self, d_model, dff, dropout_rate=0.1):\n",
    "    super().__init__()\n",
    "    self.seq = tf.keras.Sequential([\n",
    "      tf.keras.layers.Dense(dff, activation='relu'),\n",
    "      tf.keras.layers.Dense(d_model),\n",
    "      tf.keras.layers.Dropout(dropout_rate)\n",
    "    ])\n",
    "    self.add = tf.keras.layers.Add()\n",
    "    self.layer_norm = tf.keras.layers.LayerNormalization()\n",
    "\n",
    "  def call(self, x):\n",
    "    x = self.add([x, self.seq(x)])\n",
    "    x = self.layer_norm(x) \n",
    "    return x"
   ]
  },
  {
   "cell_type": "code",
   "execution_count": 32,
   "id": "b06106a8-0eaa-49c4-a00b-6fd1bd4b4c38",
   "metadata": {},
   "outputs": [
    {
     "name": "stdout",
     "output_type": "stream",
     "text": [
      "(64, 17, 512)\n",
      "(64, 17, 512)\n"
     ]
    }
   ],
   "source": [
    "sample_ffn = FeedForward(512, 2048)\n",
    "\n",
    "print(mn_emb.shape)\n",
    "print(sample_ffn(mn_emb).shape)"
   ]
  },
  {
   "cell_type": "code",
   "execution_count": 33,
   "id": "2d93838e-18df-40ff-b1b8-6575ee95af6f",
   "metadata": {},
   "outputs": [],
   "source": [
    "class EncoderLayer(tf.keras.layers.Layer):\n",
    "  def __init__(self,*, d_model, num_heads, dff, dropout_rate=0.1):\n",
    "    super().__init__()\n",
    "\n",
    "    self.self_attention = GlobalSelfAttention(\n",
    "        num_heads=num_heads,\n",
    "        key_dim=d_model,\n",
    "        dropout=dropout_rate)\n",
    "\n",
    "    self.ffn = FeedForward(d_model, dff)\n",
    "\n",
    "  def call(self, x):\n",
    "    x = self.self_attention(x)\n",
    "    x = self.ffn(x)\n",
    "    return x"
   ]
  },
  {
   "cell_type": "code",
   "execution_count": 34,
   "id": "417c9685-fa03-45c1-ab72-7b08e9616044",
   "metadata": {},
   "outputs": [
    {
     "name": "stdout",
     "output_type": "stream",
     "text": [
      "(64, 21, 512)\n",
      "(64, 21, 512)\n"
     ]
    }
   ],
   "source": [
    "sample_encoder_layer = EncoderLayer(d_model=512, num_heads=8, dff=2048)\n",
    "\n",
    "print(en_emb.shape)\n",
    "print(sample_encoder_layer(en_emb).shape)"
   ]
  },
  {
   "cell_type": "code",
   "execution_count": 35,
   "id": "08ec8b5c-f3a4-42a8-b7d7-8e7a448b1d18",
   "metadata": {},
   "outputs": [],
   "source": [
    "class Encoder(tf.keras.layers.Layer):\n",
    "  def __init__(self, *, num_layers, d_model, num_heads,\n",
    "               dff, vocab_size, dropout_rate=0.1):\n",
    "    super().__init__()\n",
    "\n",
    "    self.d_model = d_model\n",
    "    self.num_layers = num_layers\n",
    "\n",
    "    self.pos_embedding = PositionalEmbedding(\n",
    "        vocab_size=vocab_size, d_model=d_model)\n",
    "\n",
    "    self.enc_layers = [\n",
    "        EncoderLayer(d_model=d_model,\n",
    "                     num_heads=num_heads,\n",
    "                     dff=dff,\n",
    "                     dropout_rate=dropout_rate)\n",
    "        for _ in range(num_layers)]\n",
    "    self.dropout = tf.keras.layers.Dropout(dropout_rate)\n",
    "\n",
    "  def call(self, x):\n",
    "    # `x` is token-IDs shape: (batch, seq_len)\n",
    "    x = self.pos_embedding(x)  # Shape `(batch_size, seq_len, d_model)`.\n",
    "\n",
    "    # Add dropout.\n",
    "    x = self.dropout(x)\n",
    "\n",
    "    for i in range(self.num_layers):\n",
    "      x = self.enc_layers[i](x)\n",
    "\n",
    "    return x  # Shape `(batch_size, seq_len, d_model)`."
   ]
  },
  {
   "cell_type": "code",
   "execution_count": 36,
   "id": "99898422-1dd0-414f-82fe-7efe0fd2c682",
   "metadata": {},
   "outputs": [
    {
     "name": "stdout",
     "output_type": "stream",
     "text": [
      "(64, 21)\n",
      "(64, 21, 512)\n"
     ]
    }
   ],
   "source": [
    "# Instantiate the encoder.\n",
    "sample_encoder = Encoder(num_layers=4,\n",
    "                         d_model=512,\n",
    "                         num_heads=8,\n",
    "                         dff=2048,\n",
    "                         vocab_size=8500)\n",
    "\n",
    "sample_encoder_output = sample_encoder(en, training=False)\n",
    "\n",
    "# Print the shape.\n",
    "print(en.shape)\n",
    "print(sample_encoder_output.shape)  # Shape `(batch_size, input_seq_len, d_model)`."
   ]
  },
  {
   "cell_type": "markdown",
   "id": "8673a0ea-4d29-4c34-8d09-bbec0429cb93",
   "metadata": {},
   "source": [
    "**The decoder layer**"
   ]
  },
  {
   "cell_type": "code",
   "execution_count": 37,
   "id": "b214e8d7-1d05-41d9-b89d-8dcb5b3cf849",
   "metadata": {},
   "outputs": [],
   "source": [
    "class DecoderLayer(tf.keras.layers.Layer):\n",
    "  def __init__(self,\n",
    "               *,\n",
    "               d_model,\n",
    "               num_heads,\n",
    "               dff,\n",
    "               dropout_rate=0.1):\n",
    "    super(DecoderLayer, self).__init__()\n",
    "\n",
    "    self.causal_self_attention = CausalSelfAttention(\n",
    "        num_heads=num_heads,\n",
    "        key_dim=d_model,\n",
    "        dropout=dropout_rate)\n",
    "\n",
    "    self.cross_attention = CrossAttention(\n",
    "        num_heads=num_heads,\n",
    "        key_dim=d_model,\n",
    "        dropout=dropout_rate)\n",
    "\n",
    "    self.ffn = FeedForward(d_model, dff)\n",
    "\n",
    "  def call(self, x, context):\n",
    "    x = self.causal_self_attention(x=x)\n",
    "    x = self.cross_attention(x=x, context=context)\n",
    "\n",
    "    # Cache the last attention scores for plotting later\n",
    "    self.last_attn_scores = self.cross_attention.last_attn_scores\n",
    "\n",
    "    x = self.ffn(x)  # Shape `(batch_size, seq_len, d_model)`.\n",
    "    return x"
   ]
  },
  {
   "cell_type": "code",
   "execution_count": 38,
   "id": "d0f353c0-2cd5-48b9-92fe-9fce93f2a9bf",
   "metadata": {},
   "outputs": [
    {
     "name": "stdout",
     "output_type": "stream",
     "text": [
      "(64, 17, 512)\n",
      "(64, 21, 512)\n",
      "(64, 17, 512)\n"
     ]
    }
   ],
   "source": [
    "sample_decoder_layer = DecoderLayer(d_model=512, num_heads=8, dff=2048)\n",
    "\n",
    "sample_decoder_layer_output = sample_decoder_layer(\n",
    "    x=mn_emb, context=en_emb)\n",
    "\n",
    "print(mn_emb.shape)\n",
    "print(en_emb.shape)\n",
    "print(sample_decoder_layer_output.shape)  # `(batch_size, seq_len, d_model)`"
   ]
  },
  {
   "cell_type": "markdown",
   "id": "68c23e4f-a7f7-4196-b7e5-fc027f9fb98e",
   "metadata": {},
   "source": [
    "**The decoder**"
   ]
  },
  {
   "cell_type": "code",
   "execution_count": 39,
   "id": "015b5e06-637e-4f86-973a-e176aaa64b55",
   "metadata": {},
   "outputs": [],
   "source": [
    "class Decoder(tf.keras.layers.Layer):\n",
    "  def __init__(self, *, num_layers, d_model, num_heads, dff, vocab_size,\n",
    "               dropout_rate=0.1):\n",
    "    super(Decoder, self).__init__()\n",
    "\n",
    "    self.d_model = d_model\n",
    "    self.num_layers = num_layers\n",
    "\n",
    "    self.pos_embedding = PositionalEmbedding(vocab_size=vocab_size,\n",
    "                                             d_model=d_model)\n",
    "    self.dropout = tf.keras.layers.Dropout(dropout_rate)\n",
    "    self.dec_layers = [\n",
    "        DecoderLayer(d_model=d_model, num_heads=num_heads,\n",
    "                     dff=dff, dropout_rate=dropout_rate)\n",
    "        for _ in range(num_layers)]\n",
    "\n",
    "    self.last_attn_scores = None\n",
    "\n",
    "  def call(self, x, context):\n",
    "    # `x` is token-IDs shape (batch, target_seq_len)\n",
    "    x = self.pos_embedding(x)  # (batch_size, target_seq_len, d_model)\n",
    "\n",
    "    x = self.dropout(x)\n",
    "\n",
    "    for i in range(self.num_layers):\n",
    "      x  = self.dec_layers[i](x, context)\n",
    "\n",
    "    self.last_attn_scores = self.dec_layers[-1].last_attn_scores\n",
    "\n",
    "    # The shape of x is (batch_size, target_seq_len, d_model).\n",
    "    return x"
   ]
  },
  {
   "cell_type": "code",
   "execution_count": 40,
   "id": "eb517d6a-93cf-4c13-a396-62a3ce4b680a",
   "metadata": {},
   "outputs": [
    {
     "name": "stdout",
     "output_type": "stream",
     "text": [
      "(64, 17)\n",
      "(64, 21, 512)\n",
      "(64, 17, 512)\n"
     ]
    }
   ],
   "source": [
    "# Instantiate the decoder.\n",
    "sample_decoder = Decoder(num_layers=4,\n",
    "                         d_model=512,\n",
    "                         num_heads=8,\n",
    "                         dff=2048,\n",
    "                         vocab_size=8000)\n",
    "\n",
    "output = sample_decoder(\n",
    "    x=mn,\n",
    "    context=en_emb)\n",
    "\n",
    "# Print the shapes.\n",
    "print(mn.shape)\n",
    "print(en_emb.shape)\n",
    "print(output.shape)"
   ]
  },
  {
   "cell_type": "code",
   "execution_count": 41,
   "id": "ba634213-c7be-4261-afc7-92fdc49554f5",
   "metadata": {},
   "outputs": [
    {
     "data": {
      "text/plain": [
       "TensorShape([64, 8, 17, 21])"
      ]
     },
     "execution_count": 41,
     "metadata": {},
     "output_type": "execute_result"
    }
   ],
   "source": [
    "sample_decoder.last_attn_scores.shape  # (batch, heads, target_seq, input_seq)"
   ]
  },
  {
   "cell_type": "code",
   "execution_count": 42,
   "id": "430b8151-d98e-4d28-8243-c45e56fe4815",
   "metadata": {},
   "outputs": [],
   "source": [
    "class Transformer(tf.keras.Model):\n",
    "  def __init__(self, *, num_layers, d_model, num_heads, dff,\n",
    "               input_vocab_size, target_vocab_size, dropout_rate=0.1):\n",
    "    super().__init__()\n",
    "    self.encoder = Encoder(num_layers=num_layers, d_model=d_model,\n",
    "                           num_heads=num_heads, dff=dff,\n",
    "                           vocab_size=input_vocab_size,\n",
    "                           dropout_rate=dropout_rate)\n",
    "\n",
    "    self.decoder = Decoder(num_layers=num_layers, d_model=d_model,\n",
    "                           num_heads=num_heads, dff=dff,\n",
    "                           vocab_size=target_vocab_size,\n",
    "                           dropout_rate=dropout_rate)\n",
    "\n",
    "    self.final_layer = tf.keras.layers.Dense(target_vocab_size)\n",
    "\n",
    "  def call(self, inputs):\n",
    "    # To use a Keras model with `.fit` you must pass all your inputs in the\n",
    "    # first argument.\n",
    "    context, x  = inputs\n",
    "\n",
    "    context = self.encoder(context)  # (batch_size, context_len, d_model)\n",
    "\n",
    "    x = self.decoder(x, context)  # (batch_size, target_len, d_model)\n",
    "\n",
    "    # Final linear layer output.\n",
    "    logits = self.final_layer(x)  # (batch_size, target_len, target_vocab_size)\n",
    "\n",
    "    try:\n",
    "      # Drop the keras mask, so it doesn't scale the losses/metrics.\n",
    "      # b/250038731\n",
    "      del logits._keras_mask\n",
    "    except AttributeError:\n",
    "      pass\n",
    "\n",
    "    # Return the final output and the attention weights.\n",
    "    return logits"
   ]
  },
  {
   "cell_type": "markdown",
   "id": "b4aee710-5b00-4c47-9395-aafc7be331a9",
   "metadata": {},
   "source": [
    "**Hyperparameters**\n",
    "\n",
    "The base model described in the original Transformer paper used num_layers=6, d_model=512, and dff=2048."
   ]
  },
  {
   "cell_type": "code",
   "execution_count": 59,
   "id": "776ec3ab-b133-4076-b61b-4a73cc58f47d",
   "metadata": {},
   "outputs": [],
   "source": [
    "num_layers = 4\n",
    "d_model = 128\n",
    "dff = 512\n",
    "num_heads = 8\n",
    "dropout_rate = 0.2 #original dropout_rate = 0.1"
   ]
  },
  {
   "cell_type": "code",
   "execution_count": 60,
   "id": "0ee9b764-5948-4a9e-be63-b0d46bc2d40a",
   "metadata": {},
   "outputs": [],
   "source": [
    "transformer = Transformer(\n",
    "    num_layers=num_layers,\n",
    "    d_model=d_model,\n",
    "    num_heads=num_heads,\n",
    "    dff=dff,\n",
    "    input_vocab_size=tokenizers.en.get_vocab_size().numpy(),\n",
    "    target_vocab_size=tokenizers.mn.get_vocab_size().numpy(),\n",
    "    dropout_rate=dropout_rate)"
   ]
  },
  {
   "cell_type": "code",
   "execution_count": 61,
   "id": "0a62456d-ba11-475b-80a1-2dc2263b2143",
   "metadata": {},
   "outputs": [
    {
     "name": "stdout",
     "output_type": "stream",
     "text": [
      "(64, 17)\n",
      "(64, 21)\n",
      "(64, 17, 3526)\n"
     ]
    }
   ],
   "source": [
    "output = transformer((en, mn))\n",
    "\n",
    "print(mn.shape)\n",
    "print(en.shape)\n",
    "print(output.shape)"
   ]
  },
  {
   "cell_type": "code",
   "execution_count": 62,
   "id": "d793a7af-f3e0-470e-94c1-300d26e9797e",
   "metadata": {},
   "outputs": [
    {
     "name": "stdout",
     "output_type": "stream",
     "text": [
      "(64, 8, 17, 21)\n"
     ]
    }
   ],
   "source": [
    "attn_scores = transformer.decoder.dec_layers[-1].last_attn_scores\n",
    "print(attn_scores.shape)  # (batch, heads, target_seq, input_seq)"
   ]
  },
  {
   "cell_type": "code",
   "execution_count": 63,
   "id": "a166c63a-ab59-4f23-9d63-9d7d41001569",
   "metadata": {},
   "outputs": [
    {
     "name": "stdout",
     "output_type": "stream",
     "text": [
      "Model: \"transformer_2\"\n",
      "_________________________________________________________________\n",
      " Layer (type)                Output Shape              Param #   \n",
      "=================================================================\n",
      " encoder_3 (Encoder)         multiple                  2947584   \n",
      "                                                                 \n",
      " decoder_3 (Decoder)         multiple                  5201152   \n",
      "                                                                 \n",
      " dense_72 (Dense)            multiple                  454854    \n",
      "                                                                 \n",
      "=================================================================\n",
      "Total params: 8603590 (32.82 MB)\n",
      "Trainable params: 8603590 (32.82 MB)\n",
      "Non-trainable params: 0 (0.00 Byte)\n",
      "_________________________________________________________________\n"
     ]
    }
   ],
   "source": [
    "transformer.summary()"
   ]
  },
  {
   "cell_type": "markdown",
   "id": "2204d2b7-f680-4f44-82cf-5491b444a943",
   "metadata": {},
   "source": [
    "**Training**"
   ]
  },
  {
   "cell_type": "code",
   "execution_count": 64,
   "id": "4b1b91f2-29eb-4b52-8f4d-f952bb8b0076",
   "metadata": {},
   "outputs": [],
   "source": [
    "#Previous warmup_steps = 4000\n",
    "class CustomSchedule(tf.keras.optimizers.schedules.LearningRateSchedule):\n",
    "  def __init__(self, d_model, warmup_steps=4000):\n",
    "    super().__init__()\n",
    "\n",
    "    self.d_model = d_model\n",
    "    self.d_model = tf.cast(self.d_model, tf.float32)\n",
    "\n",
    "    self.warmup_steps = warmup_steps\n",
    "\n",
    "  def __call__(self, step):\n",
    "    step = tf.cast(step, dtype=tf.float32)\n",
    "    arg1 = tf.math.rsqrt(step)\n",
    "    arg2 = step * (self.warmup_steps ** -1.5)\n",
    "\n",
    "    return tf.math.rsqrt(self.d_model) * tf.math.minimum(arg1, arg2)"
   ]
  },
  {
   "cell_type": "code",
   "execution_count": 65,
   "id": "5d93f785-464b-4aff-80ac-6a50daa1613d",
   "metadata": {},
   "outputs": [],
   "source": [
    "learning_rate = CustomSchedule(d_model)\n",
    "\n",
    "optimizer = tf.keras.optimizers.Adam(learning_rate, beta_1=0.9, beta_2=0.98,\n",
    "                                     epsilon=1e-9)"
   ]
  },
  {
   "cell_type": "code",
   "execution_count": 50,
   "id": "dbd65783-6a37-4f10-80ec-72ea5834425c",
   "metadata": {},
   "outputs": [
    {
     "ename": "NameError",
     "evalue": "name 'plt' is not defined",
     "output_type": "error",
     "traceback": [
      "\u001b[0;31m---------------------------------------------------------------------------\u001b[0m",
      "\u001b[0;31mNameError\u001b[0m                                 Traceback (most recent call last)",
      "Cell \u001b[0;32mIn[50], line 1\u001b[0m\n\u001b[0;32m----> 1\u001b[0m \u001b[43mplt\u001b[49m\u001b[38;5;241m.\u001b[39mplot(learning_rate(tf\u001b[38;5;241m.\u001b[39mrange(\u001b[38;5;241m40000\u001b[39m, dtype\u001b[38;5;241m=\u001b[39mtf\u001b[38;5;241m.\u001b[39mfloat32)))\n\u001b[1;32m      2\u001b[0m plt\u001b[38;5;241m.\u001b[39mylabel(\u001b[38;5;124m'\u001b[39m\u001b[38;5;124mLearning Rate\u001b[39m\u001b[38;5;124m'\u001b[39m)\n\u001b[1;32m      3\u001b[0m plt\u001b[38;5;241m.\u001b[39mxlabel(\u001b[38;5;124m'\u001b[39m\u001b[38;5;124mTrain Step\u001b[39m\u001b[38;5;124m'\u001b[39m)\n",
      "\u001b[0;31mNameError\u001b[0m: name 'plt' is not defined"
     ]
    }
   ],
   "source": [
    "plt.plot(learning_rate(tf.range(40000, dtype=tf.float32)))\n",
    "plt.ylabel('Learning Rate')\n",
    "plt.xlabel('Train Step')"
   ]
  },
  {
   "cell_type": "code",
   "execution_count": 66,
   "id": "2656331c-ecda-4086-8393-5d85003db8af",
   "metadata": {},
   "outputs": [],
   "source": [
    "def masked_loss(label, pred):\n",
    "  mask = label != 0\n",
    "  loss_object = tf.keras.losses.SparseCategoricalCrossentropy(\n",
    "    from_logits=True, reduction='none')\n",
    "  loss = loss_object(label, pred)\n",
    "\n",
    "  mask = tf.cast(mask, dtype=loss.dtype)\n",
    "  loss *= mask\n",
    "\n",
    "  loss = tf.reduce_sum(loss)/tf.reduce_sum(mask)\n",
    "  return loss\n",
    "\n",
    "\n",
    "def masked_accuracy(label, pred):\n",
    "  pred = tf.argmax(pred, axis=2)\n",
    "  label = tf.cast(label, pred.dtype)\n",
    "  match = label == pred\n",
    "\n",
    "  mask = label != 0\n",
    "\n",
    "  match = match & mask\n",
    "\n",
    "  match = tf.cast(match, dtype=tf.float32)\n",
    "  mask = tf.cast(mask, dtype=tf.float32)\n",
    "  return tf.reduce_sum(match)/tf.reduce_sum(mask)"
   ]
  },
  {
   "cell_type": "markdown",
   "id": "6b1fbaf2-58ce-414c-a70e-9c99c0eccd15",
   "metadata": {},
   "source": [
    "**Train the model**"
   ]
  },
  {
   "cell_type": "code",
   "execution_count": 67,
   "id": "523eb311-83bf-4d1b-b28d-8637b5696e8f",
   "metadata": {},
   "outputs": [],
   "source": [
    "transformer.compile(\n",
    "    loss=masked_loss,\n",
    "    optimizer=optimizer,\n",
    "    metrics=[masked_accuracy])"
   ]
  },
  {
   "cell_type": "code",
   "execution_count": 68,
   "id": "bbed2c00-03a0-4c93-8dee-f7dc83ca4e6a",
   "metadata": {},
   "outputs": [
    {
     "name": "stdout",
     "output_type": "stream",
     "text": [
      "Epoch 1/20\n"
     ]
    },
    {
     "name": "stderr",
     "output_type": "stream",
     "text": [
      "2024-01-12 15:27:57.793996: I external/local_xla/xla/service/service.cc:168] XLA service 0x7efd80009450 initialized for platform CUDA (this does not guarantee that XLA will be used). Devices:\n",
      "2024-01-12 15:27:57.794016: I external/local_xla/xla/service/service.cc:176]   StreamExecutor device (0): NVIDIA GeForce RTX 2070, Compute Capability 7.5\n",
      "2024-01-12 15:27:57.957271: I tensorflow/compiler/mlir/tensorflow/utils/dump_mlir_util.cc:269] disabling MLIR crash reproducer, set env var `MLIR_CRASH_REPRODUCER_DIRECTORY` to enable.\n",
      "WARNING: All log messages before absl::InitializeLog() is called are written to STDERR\n",
      "I0000 00:00:1705053478.316632   16587 device_compiler.h:186] Compiled cluster using XLA!  This line is logged at most once for the lifetime of the process.\n"
     ]
    },
    {
     "name": "stdout",
     "output_type": "stream",
     "text": [
      "830/830 [==============================] - 68s 60ms/step - loss: 5.7230 - masked_accuracy: 0.2842 - val_loss: 4.2481 - val_masked_accuracy: 0.3749\n",
      "Epoch 2/20\n",
      "830/830 [==============================] - 40s 49ms/step - loss: 3.7480 - masked_accuracy: 0.4224 - val_loss: 3.2495 - val_masked_accuracy: 0.4749\n",
      "Epoch 3/20\n",
      "830/830 [==============================] - 40s 48ms/step - loss: 2.9417 - masked_accuracy: 0.4994 - val_loss: 2.5625 - val_masked_accuracy: 0.5436\n",
      "Epoch 4/20\n",
      "830/830 [==============================] - 41s 49ms/step - loss: 2.4015 - masked_accuracy: 0.5553 - val_loss: 2.1985 - val_masked_accuracy: 0.5829\n",
      "Epoch 5/20\n",
      "830/830 [==============================] - 40s 49ms/step - loss: 2.0981 - masked_accuracy: 0.5870 - val_loss: 2.0025 - val_masked_accuracy: 0.6101\n",
      "Epoch 6/20\n",
      "830/830 [==============================] - 40s 49ms/step - loss: 1.8634 - masked_accuracy: 0.6185 - val_loss: 1.8277 - val_masked_accuracy: 0.6356\n",
      "Epoch 7/20\n",
      "830/830 [==============================] - 40s 49ms/step - loss: 1.6546 - masked_accuracy: 0.6475 - val_loss: 1.7255 - val_masked_accuracy: 0.6533\n",
      "Epoch 8/20\n",
      "830/830 [==============================] - 40s 48ms/step - loss: 1.4984 - masked_accuracy: 0.6709 - val_loss: 1.6549 - val_masked_accuracy: 0.6650\n",
      "Epoch 9/20\n",
      "830/830 [==============================] - 40s 49ms/step - loss: 1.3732 - masked_accuracy: 0.6908 - val_loss: 1.5866 - val_masked_accuracy: 0.6772\n",
      "Epoch 10/20\n",
      "830/830 [==============================] - 41s 49ms/step - loss: 1.2761 - masked_accuracy: 0.7065 - val_loss: 1.5369 - val_masked_accuracy: 0.6856\n",
      "Epoch 11/20\n",
      "830/830 [==============================] - 40s 49ms/step - loss: 1.1919 - masked_accuracy: 0.7214 - val_loss: 1.5262 - val_masked_accuracy: 0.6955\n",
      "Epoch 12/20\n",
      "830/830 [==============================] - 40s 48ms/step - loss: 1.1197 - masked_accuracy: 0.7331 - val_loss: 1.5101 - val_masked_accuracy: 0.6988\n",
      "Epoch 13/20\n",
      "830/830 [==============================] - 41s 49ms/step - loss: 1.0547 - masked_accuracy: 0.7443 - val_loss: 1.5007 - val_masked_accuracy: 0.7010\n",
      "Epoch 14/20\n",
      "830/830 [==============================] - 41s 49ms/step - loss: 1.0036 - masked_accuracy: 0.7540 - val_loss: 1.4778 - val_masked_accuracy: 0.7068\n",
      "Epoch 15/20\n",
      "830/830 [==============================] - 41s 49ms/step - loss: 0.9500 - masked_accuracy: 0.7626 - val_loss: 1.4692 - val_masked_accuracy: 0.7125\n",
      "Epoch 16/20\n",
      "830/830 [==============================] - 41s 49ms/step - loss: 0.9058 - masked_accuracy: 0.7711 - val_loss: 1.4782 - val_masked_accuracy: 0.7104\n",
      "Epoch 17/20\n",
      "830/830 [==============================] - 41s 49ms/step - loss: 0.8666 - masked_accuracy: 0.7791 - val_loss: 1.4788 - val_masked_accuracy: 0.7146\n",
      "Epoch 18/20\n",
      "830/830 [==============================] - 40s 48ms/step - loss: 0.8285 - masked_accuracy: 0.7859 - val_loss: 1.4586 - val_masked_accuracy: 0.7189\n",
      "Epoch 19/20\n",
      "830/830 [==============================] - 41s 49ms/step - loss: 0.7927 - masked_accuracy: 0.7928 - val_loss: 1.4687 - val_masked_accuracy: 0.7223\n",
      "Epoch 20/20\n",
      "830/830 [==============================] - 40s 49ms/step - loss: 0.7649 - masked_accuracy: 0.7983 - val_loss: 1.4623 - val_masked_accuracy: 0.7228\n"
     ]
    },
    {
     "data": {
      "text/plain": [
       "<keras.src.callbacks.History at 0x7efe6bc9d1e0>"
      ]
     },
     "execution_count": 68,
     "metadata": {},
     "output_type": "execute_result"
    }
   ],
   "source": [
    "transformer.fit(train_batches,\n",
    "                epochs=20,\n",
    "                validation_data=val_batches)"
   ]
  },
  {
   "cell_type": "code",
   "execution_count": 69,
   "id": "b6024e5f-e19a-4998-ba33-9c09588bc8f9",
   "metadata": {},
   "outputs": [],
   "source": [
    "class Translator(tf.Module):\n",
    "  def __init__(self, tokenizers, transformer):\n",
    "    self.tokenizers = tokenizers\n",
    "    self.transformer = transformer\n",
    "\n",
    "  def __call__(self, sentence, max_length=MAX_TOKENS):\n",
    "    # The input sentence is English, hence adding the `[START]` and `[END]` tokens.\n",
    "    assert isinstance(sentence, tf.Tensor)\n",
    "    if len(sentence.shape) == 0:\n",
    "      sentence = sentence[tf.newaxis]\n",
    "\n",
    "    sentence = self.tokenizers.en.tokenize(sentence).to_tensor()\n",
    "\n",
    "    encoder_input = sentence\n",
    "\n",
    "    # As the output language is Manipuri, initialize the output with the\n",
    "    # English `[START]` token.\n",
    "    start_end = self.tokenizers.mn.tokenize([''])[0]\n",
    "    start = start_end[0][tf.newaxis]\n",
    "    end = start_end[1][tf.newaxis]\n",
    "\n",
    "    # `tf.TensorArray` is required here (instead of a Python list), so that the\n",
    "    # dynamic-loop can be traced by `tf.function`.\n",
    "    output_array = tf.TensorArray(dtype=tf.int64, size=0, dynamic_size=True)\n",
    "    output_array = output_array.write(0, start)\n",
    "\n",
    "    for i in tf.range(max_length):\n",
    "      output = tf.transpose(output_array.stack())\n",
    "      predictions = self.transformer([encoder_input, output], training=False)\n",
    "\n",
    "      # Select the last token from the `seq_len` dimension.\n",
    "      predictions = predictions[:, -1:, :]  # Shape `(batch_size, 1, vocab_size)`.\n",
    "\n",
    "      predicted_id = tf.argmax(predictions, axis=-1)\n",
    "\n",
    "      # Concatenate the `predicted_id` to the output which is given to the\n",
    "      # decoder as its input.\n",
    "      output_array = output_array.write(i+1, predicted_id[0])\n",
    "\n",
    "      if predicted_id == end:\n",
    "        break\n",
    "\n",
    "    output = tf.transpose(output_array.stack())\n",
    "    # The output shape is `(1, tokens)`.\n",
    "    text = tokenizers.mn.detokenize(output)[0]  # Shape: `()`.\n",
    "    #result = text.numpy().decode(\"utf-8\")\n",
    "    # Commenting out the below line to see if tflite works\n",
    "    #tokens = tokenizers.mn.lookup(output)[0]\n",
    "    tokens = \"\"\n",
    "\n",
    "    # `tf.function` prevents us from using the attention_weights that were\n",
    "    # calculated on the last iteration of the loop.\n",
    "    # So, recalculate them outside the loop.\n",
    "    self.transformer([encoder_input, output[:,:-1]], training=False)\n",
    "    attention_weights = self.transformer.decoder.last_attn_scores\n",
    "\n",
    "    return text, tokens, attention_weights"
   ]
  },
  {
   "cell_type": "code",
   "execution_count": 70,
   "id": "08ab241b-75ab-468f-9819-4ddded528f8a",
   "metadata": {},
   "outputs": [],
   "source": [
    "translator = Translator(tokenizers, transformer)"
   ]
  },
  {
   "cell_type": "code",
   "execution_count": 71,
   "id": "ba23ad9d-db16-414f-bb62-f00a6e4b87fe",
   "metadata": {},
   "outputs": [],
   "source": [
    "def print_translation(sentence, tokens, ground_truth):\n",
    "  print(f'{\"Input:\":15s}: {sentence}')\n",
    "  print(f'{\"Prediction\":15s}: {tokens.numpy().decode(\"utf-8\")}')\n",
    "  print(f'{\"Ground truth\":15s}: {ground_truth}')"
   ]
  },
  {
   "cell_type": "code",
   "execution_count": 72,
   "id": "25478eea-d1d5-46b3-8a99-06b5a29238ae",
   "metadata": {
    "scrolled": true
   },
   "outputs": [
    {
     "name": "stdout",
     "output_type": "stream",
     "text": [
      "Input:         : We have met once.\n",
      "Prediction     : ꯑꯩꯈꯣꯢ ꯑꯃꯨꯛꯈꯛ ꯎꯅꯈꯤ ꯫\n",
      "Ground truth   : \n"
     ]
    }
   ],
   "source": [
    "sentence = \"We have met once.\"\n",
    "ground_truth = ''\n",
    "\n",
    "translated_text, translated_tokens, attention_weights = translator(tf.constant(sentence))\n",
    "print_translation(sentence, translated_text, ground_truth)"
   ]
  },
  {
   "cell_type": "code",
   "execution_count": 77,
   "id": "6d809021-4aca-477b-8060-bc942d2d9f0a",
   "metadata": {},
   "outputs": [
    {
     "name": "stdout",
     "output_type": "stream",
     "text": [
      "Input:         : He said that 'he love his friend's wife'.\n",
      "Prediction     : ꯃꯍꯥꯛꯅ ꯍꯥꯢꯈꯤ ꯃꯗꯨꯗꯤ ꯃꯍꯥꯛꯀꯤ ꯃꯔꯨꯞꯅꯤ ꯫\n",
      "Ground truth   : ꯃꯍꯥꯛ ꯃꯨꯆꯤꯡꯕꯒꯤ ꯂꯨꯆꯤꯡꯕꯒꯤ ꯂꯝꯖꯉꯥꯢꯐꯗꯅ ꯈꯪꯉꯤ ꯫\n"
     ]
    }
   ],
   "source": [
    "sentence = \"He said that 'he love his friend\\'s wife'.\"\n",
    "ground_truth = 'ꯃꯍꯥꯛ ꯃꯨꯆꯤꯡꯕꯒꯤ ꯂꯨꯆꯤꯡꯕꯒꯤ ꯂꯝꯖꯉꯥꯢꯐꯗꯅ ꯈꯪꯉꯤ ꯫'\n",
    "\n",
    "translated_text, translated_tokens, attention_weights = translator(\n",
    "    tf.constant(sentence))\n",
    "print_translation(sentence, translated_text, ground_truth)"
   ]
  },
  {
   "cell_type": "code",
   "execution_count": 76,
   "id": "6247d122-fa90-493f-8f79-6cc82eba73b7",
   "metadata": {},
   "outputs": [],
   "source": [
    "def plot_attention_head(in_tokens, translated_tokens, attention):\n",
    "  # The model didn't generate `<START>` in the output. Skip it.\n",
    "  translated_tokens = translated_tokens[1:]\n",
    "\n",
    "  ax = plt.gca()\n",
    "  ax.matshow(attention)\n",
    "  ax.set_xticks(range(len(in_tokens)))\n",
    "  ax.set_yticks(range(len(translated_tokens)))\n",
    "\n",
    "  labels = [label.decode('utf-8') for label in in_tokens.numpy()]\n",
    "  ax.set_xticklabels(\n",
    "      labels, rotation=90)\n",
    "\n",
    "  labels = [label.decode('utf-8') for label in translated_tokens.numpy()]\n",
    "  ax.set_yticklabels(labels)"
   ]
  },
  {
   "cell_type": "code",
   "execution_count": 71,
   "id": "8e185135-f810-4181-8589-5863bce082f9",
   "metadata": {},
   "outputs": [
    {
     "data": {
      "text/plain": [
       "TensorShape([8, 9])"
      ]
     },
     "execution_count": 71,
     "metadata": {},
     "output_type": "execute_result"
    }
   ],
   "source": [
    "head = 0\n",
    "# Shape: `(batch=1, num_heads, seq_len_q, seq_len_k)`.\n",
    "attention_heads = tf.squeeze(attention_weights, 0)\n",
    "attention = attention_heads[head]\n",
    "attention.shape"
   ]
  },
  {
   "cell_type": "code",
   "execution_count": 72,
   "id": "90761bb9-c84f-4c3e-b806-a14f997f835f",
   "metadata": {},
   "outputs": [
    {
     "data": {
      "text/plain": [
       "<tf.Tensor: shape=(9,), dtype=string, numpy=\n",
       "array([b'[START]', b'no', b'one', b'knew', b'who', b'he', b'was', b'.',\n",
       "       b'[END]'], dtype=object)>"
      ]
     },
     "execution_count": 72,
     "metadata": {},
     "output_type": "execute_result"
    }
   ],
   "source": [
    "in_tokens = tf.convert_to_tensor([sentence])\n",
    "in_tokens = tokenizers.en.tokenize(in_tokens).to_tensor()\n",
    "in_tokens = tokenizers.en.lookup(in_tokens)[0]\n",
    "in_tokens"
   ]
  },
  {
   "cell_type": "code",
   "execution_count": 73,
   "id": "e0592888-4ba8-4313-82df-58c545562fb3",
   "metadata": {},
   "outputs": [
    {
     "data": {
      "text/plain": [
       "<tf.Tensor: shape=(9,), dtype=string, numpy=\n",
       "array([b'[START]',\n",
       "       b'\\xea\\xaf\\x80\\xea\\xaf\\x85\\xea\\xaf\\xa5\\xea\\xaf\\x92\\xea\\xaf\\xa8\\xea\\xaf\\x9d\\xea\\xaf\\x95',\n",
       "       b'\\xea\\xaf\\x91\\xea\\xaf\\x83\\xea\\xaf\\x87',\n",
       "       b'\\xea\\xaf\\x83\\xea\\xaf\\x8d\\xea\\xaf\\xa5\\xea\\xaf\\x9b',\n",
       "       b'\\xea\\xaf\\x80\\xea\\xaf\\x85\\xea\\xaf\\xa5\\xea\\xaf\\x85\\xea\\xaf\\xa3',\n",
       "       b'\\xea\\xaf\\x8d\\xea\\xaf\\xa5\\xea\\xaf\\xa2\\xea\\xaf\\x95',\n",
       "       b'\\xea\\xaf\\x88\\xea\\xaf\\xaa\\xea\\xaf\\x88\\xea\\xaf\\xa4\\xea\\xaf\\x97\\xea\\xaf\\xa6',\n",
       "       b'\\xea\\xaf\\xab', b'[END]'], dtype=object)>"
      ]
     },
     "execution_count": 73,
     "metadata": {},
     "output_type": "execute_result"
    }
   ],
   "source": [
    "translated_tokens"
   ]
  },
  {
   "cell_type": "code",
   "execution_count": 62,
   "id": "124bd29d-7834-49cf-b024-ebe95fae665e",
   "metadata": {},
   "outputs": [],
   "source": [
    "#plot_attention_head(in_tokens, translated_tokens, attention)"
   ]
  },
  {
   "cell_type": "code",
   "execution_count": 81,
   "id": "e66b1f5b-678d-4029-94b9-a6a747325b61",
   "metadata": {},
   "outputs": [],
   "source": [
    "def plot_attention_weights(sentence, translated_tokens, attention_heads):\n",
    "  in_tokens = tf.convert_to_tensor([sentence])\n",
    "  in_tokens = tokenizers.en.tokenize(in_tokens).to_tensor()\n",
    "  in_tokens = tokenizers.en.lookup(in_tokens)[0]\n",
    "\n",
    "  fig = plt.figure(figsize=(16, 8))\n",
    "\n",
    "  for h, head in enumerate(attention_heads):\n",
    "    ax = fig.add_subplot(2, 4, h+1)\n",
    "\n",
    "    plot_attention_head(in_tokens, translated_tokens, head)\n",
    "\n",
    "    ax.set_xlabel(f'Head {h+1}')\n",
    "\n",
    "  plt.tight_layout()\n",
    "  plt.show()"
   ]
  },
  {
   "cell_type": "code",
   "execution_count": 82,
   "id": "032dc820-99d9-43dd-8e93-714828718171",
   "metadata": {},
   "outputs": [
    {
     "name": "stderr",
     "output_type": "stream",
     "text": [
      "/tmp/ipykernel_5987/4046938539.py:15: UserWarning: Glyph 43975 (\\N{MEETEI MAYEK LETTER TIL}) missing from current font.\n",
      "  plt.tight_layout()\n",
      "/tmp/ipykernel_5987/4046938539.py:15: UserWarning: Glyph 44003 (\\N{MEETEI MAYEK VOWEL SIGN ONAP}) missing from current font.\n",
      "  plt.tight_layout()\n",
      "/tmp/ipykernel_5987/4046938539.py:15: UserWarning: Glyph 43997 (\\N{MEETEI MAYEK LETTER MIT LONSUM}) missing from current font.\n",
      "  plt.tight_layout()\n",
      "/tmp/ipykernel_5987/4046938539.py:15: UserWarning: Glyph 43991 (\\N{MEETEI MAYEK LETTER DIL}) missing from current font.\n",
      "  plt.tight_layout()\n",
      "/tmp/ipykernel_5987/4046938539.py:15: UserWarning: Glyph 43971 (\\N{MEETEI MAYEK LETTER MIT}) missing from current font.\n",
      "  plt.tight_layout()\n",
      "/tmp/ipykernel_5987/4046938539.py:15: UserWarning: Glyph 44008 (\\N{MEETEI MAYEK VOWEL SIGN UNAP}) missing from current font.\n",
      "  plt.tight_layout()\n",
      "/tmp/ipykernel_5987/4046938539.py:15: UserWarning: Glyph 44007 (\\N{MEETEI MAYEK VOWEL SIGN SOUNAP}) missing from current font.\n",
      "  plt.tight_layout()\n",
      "/tmp/ipykernel_5987/4046938539.py:15: UserWarning: Glyph 43973 (\\N{MEETEI MAYEK LETTER NA}) missing from current font.\n",
      "  plt.tight_layout()\n",
      "/tmp/ipykernel_5987/4046938539.py:15: UserWarning: Glyph 43989 (\\N{MEETEI MAYEK LETTER BA}) missing from current font.\n",
      "  plt.tight_layout()\n",
      "/tmp/ipykernel_5987/4046938539.py:15: UserWarning: Glyph 43981 (\\N{MEETEI MAYEK LETTER HUK}) missing from current font.\n",
      "  plt.tight_layout()\n",
      "/tmp/ipykernel_5987/4046938539.py:15: UserWarning: Glyph 44010 (\\N{MEETEI MAYEK VOWEL SIGN NUNG}) missing from current font.\n",
      "  plt.tight_layout()\n",
      "/tmp/ipykernel_5987/4046938539.py:15: UserWarning: Glyph 43976 (\\N{MEETEI MAYEK LETTER KHOU}) missing from current font.\n",
      "  plt.tight_layout()\n",
      "/tmp/ipykernel_5987/4046938539.py:15: UserWarning: Glyph 44004 (\\N{MEETEI MAYEK VOWEL SIGN INAP}) missing from current font.\n",
      "  plt.tight_layout()\n",
      "/tmp/ipykernel_5987/4046938539.py:15: UserWarning: Glyph 43985 (\\N{MEETEI MAYEK LETTER ATIYA}) missing from current font.\n",
      "  plt.tight_layout()\n",
      "/tmp/ipykernel_5987/4046938539.py:15: UserWarning: Glyph 44009 (\\N{MEETEI MAYEK VOWEL SIGN CHEINAP}) missing from current font.\n",
      "  plt.tight_layout()\n",
      "/tmp/ipykernel_5987/4046938539.py:15: UserWarning: Glyph 44011 (\\N{MEETEI MAYEK CHEIKHEI}) missing from current font.\n",
      "  plt.tight_layout()\n"
     ]
    },
    {
     "data": {
      "image/png": "[encoded data removed]",
      "text/plain": [
       "<Figure size 1600x800 with 8 Axes>"
      ]
     },
     "metadata": {},
     "output_type": "display_data"
    }
   ],
   "source": [
    "plot_attention_weights(sentence,\n",
    "                       translated_tokens,\n",
    "                       attention_weights[0])"
   ]
  },
  {
   "cell_type": "markdown",
   "id": "433faf76-5960-4530-a175-5b17927c6ef0",
   "metadata": {},
   "source": [
    "**Export the model**"
   ]
  },
  {
   "cell_type": "code",
   "execution_count": 78,
   "id": "39e8c692-7219-435e-8759-c155d98407e5",
   "metadata": {},
   "outputs": [],
   "source": [
    "from typing import Dict"
   ]
  },
  {
   "cell_type": "code",
   "execution_count": 79,
   "id": "184004b6-a8a2-4e22-8881-e799967d874f",
   "metadata": {},
   "outputs": [],
   "source": [
    "class ExportTranslator(tf.Module):\n",
    "  def __init__(self, translator):\n",
    "    self.translator = translator\n",
    "\n",
    "  #@tf.function(input_signature=[tf.TensorSpec([], tf.float32)])\n",
    "  @tf.function(input_signature=[tf.TensorSpec(shape=[1,], dtype=tf.string)])\n",
    "  def __call__(self, sentence) -> Dict[str, str]:\n",
    "    (result, tokens, attention_weights) = self.translator(sentence, max_length=MAX_TOKENS)\n",
    "\n",
    "    return {\"prediction\": tf.strings.as_string([result])}"
   ]
  },
  {
   "cell_type": "code",
   "execution_count": 80,
   "id": "5df98b3a-a004-4c57-be95-62c5b54eed95",
   "metadata": {},
   "outputs": [
    {
     "name": "stdout",
     "output_type": "stream",
     "text": [
      "WARNING:tensorflow:Model's `__init__()` arguments contain non-serializable objects. Please implement a `get_config()` method in the subclassed Model for proper saving and loading. Defaulting to empty config.\n"
     ]
    },
    {
     "name": "stderr",
     "output_type": "stream",
     "text": [
      "WARNING:tensorflow:Model's `__init__()` arguments contain non-serializable objects. Please implement a `get_config()` method in the subclassed Model for proper saving and loading. Defaulting to empty config.\n"
     ]
    },
    {
     "name": "stdout",
     "output_type": "stream",
     "text": [
      "WARNING:tensorflow:Model's `__init__()` arguments contain non-serializable objects. Please implement a `get_config()` method in the subclassed Model for proper saving and loading. Defaulting to empty config.\n"
     ]
    },
    {
     "name": "stderr",
     "output_type": "stream",
     "text": [
      "WARNING:tensorflow:Model's `__init__()` arguments contain non-serializable objects. Please implement a `get_config()` method in the subclassed Model for proper saving and loading. Defaulting to empty config.\n"
     ]
    },
    {
     "name": "stdout",
     "output_type": "stream",
     "text": [
      "INFO:tensorflow:Assets written to: translate_manipuri_model/gpu-4l-20epoch/assets\n"
     ]
    },
    {
     "name": "stderr",
     "output_type": "stream",
     "text": [
      "INFO:tensorflow:Assets written to: translate_manipuri_model/gpu-4l-20epoch/assets\n"
     ]
    }
   ],
   "source": [
    "model_output = ExportTranslator(translator)\n",
    "call_output = model_output.__call__.get_concrete_function(tf.TensorSpec(shape=[1,], dtype=tf.string))\n",
    "translator_model_name = \"translate_manipuri_model/gpu-4l-20epoch\"\n",
    "tf.saved_model.save(model_output, export_dir = translator_model_name, signatures={'serving_default': call_output})"
   ]
  },
  {
   "cell_type": "code",
   "execution_count": 81,
   "id": "d8bfe9ba-45c5-40ff-80a4-4c072ead607a",
   "metadata": {},
   "outputs": [],
   "source": [
    "translator = ExportTranslator(translator)"
   ]
  },
  {
   "cell_type": "code",
   "execution_count": 82,
   "id": "8bb3c3a6-ab4f-4ba1-9ce7-2f2933575e79",
   "metadata": {},
   "outputs": [
    {
     "data": {
      "text/plain": [
       "'ꯑꯍꯦꯟꯕ ꯁꯒꯣꯜꯁꯤꯡ ꯅꯤꯡꯖꯕ ꯀꯥꯢꯈꯤ ꯫'"
      ]
     },
     "execution_count": 82,
     "metadata": {},
     "output_type": "execute_result"
    }
   ],
   "source": [
    "d = translator([\"More and more Kuki militants lost hope.\"])\n",
    "(d[\"prediction\"][0]).numpy().decode(\"utf-8\")"
   ]
  },
  {
   "cell_type": "markdown",
   "id": "6c0aed50-5e8d-4670-bd4b-ce4165aa0a9b",
   "metadata": {},
   "source": [
    "**Lets try to save the TF lite model here**"
   ]
  },
  {
   "cell_type": "code",
   "execution_count": 83,
   "id": "57471784-f4c2-440d-942c-767c01bae8aa",
   "metadata": {},
   "outputs": [],
   "source": [
    "import tensorflow_text as tf_text\n",
    "#import sentencepiece as spm"
   ]
  },
  {
   "cell_type": "code",
   "execution_count": 84,
   "id": "5f6ded6f-9b27-47fd-b680-f153e18d20f9",
   "metadata": {},
   "outputs": [
    {
     "name": "stdout",
     "output_type": "stream",
     "text": [
      "WARNING:tensorflow:Model's `__init__()` arguments contain non-serializable objects. Please implement a `get_config()` method in the subclassed Model for proper saving and loading. Defaulting to empty config.\n"
     ]
    },
    {
     "name": "stderr",
     "output_type": "stream",
     "text": [
      "WARNING:tensorflow:Model's `__init__()` arguments contain non-serializable objects. Please implement a `get_config()` method in the subclassed Model for proper saving and loading. Defaulting to empty config.\n"
     ]
    },
    {
     "name": "stdout",
     "output_type": "stream",
     "text": [
      "WARNING:tensorflow:Model's `__init__()` arguments contain non-serializable objects. Please implement a `get_config()` method in the subclassed Model for proper saving and loading. Defaulting to empty config.\n"
     ]
    },
    {
     "name": "stderr",
     "output_type": "stream",
     "text": [
      "WARNING:tensorflow:Model's `__init__()` arguments contain non-serializable objects. Please implement a `get_config()` method in the subclassed Model for proper saving and loading. Defaulting to empty config.\n"
     ]
    },
    {
     "name": "stdout",
     "output_type": "stream",
     "text": [
      "INFO:tensorflow:Assets written to: /tmp/tmp76y3kpgw/assets\n"
     ]
    },
    {
     "name": "stderr",
     "output_type": "stream",
     "text": [
      "INFO:tensorflow:Assets written to: /tmp/tmp76y3kpgw/assets\n",
      "2024-01-12 16:19:39.953563: W tensorflow/compiler/mlir/lite/python/tf_tfl_flatbuffer_helpers.cc:378] Ignored output_format.\n",
      "2024-01-12 16:19:39.953583: W tensorflow/compiler/mlir/lite/python/tf_tfl_flatbuffer_helpers.cc:381] Ignored drop_control_dependency.\n",
      "2024-01-12 16:19:39.953839: I tensorflow/cc/saved_model/reader.cc:83] Reading SavedModel from: /tmp/tmp76y3kpgw\n",
      "2024-01-12 16:19:39.980366: I tensorflow/cc/saved_model/reader.cc:51] Reading meta graph with tags { serve }\n",
      "2024-01-12 16:19:39.980377: I tensorflow/cc/saved_model/reader.cc:146] Reading SavedModel debug info (if present) from: /tmp/tmp76y3kpgw\n",
      "2024-01-12 16:19:40.041811: I tensorflow/compiler/mlir/mlir_graph_optimization_pass.cc:388] MLIR V1 optimization pass is not enabled\n",
      "2024-01-12 16:19:40.063379: I tensorflow/cc/saved_model/loader.cc:233] Restoring SavedModel bundle.\n",
      "2024-01-12 16:19:40.801941: I tensorflow/cc/saved_model/loader.cc:217] Running initialization op on SavedModel bundle at path: /tmp/tmp76y3kpgw\n",
      "2024-01-12 16:19:41.128386: I tensorflow/cc/saved_model/loader.cc:316] SavedModel load for tags { serve }; Status: success: OK. Took 1174548 microseconds.\n",
      "2024-01-12 16:19:44.082464: E tensorflow/compiler/mlir/lite/stablehlo/transforms/op_stat_pass.cc:119] Unsupported data type.\n",
      "2024-01-12 16:19:44.082485: E tensorflow/compiler/mlir/lite/stablehlo/transforms/op_stat_pass.cc:119] Unsupported data type.\n",
      "2024-01-12 16:19:44.082494: E tensorflow/compiler/mlir/lite/stablehlo/transforms/op_stat_pass.cc:119] Unsupported data type.\n",
      "2024-01-12 16:19:44.082501: E tensorflow/compiler/mlir/lite/stablehlo/transforms/op_stat_pass.cc:119] Unsupported data type.\n",
      "2024-01-12 16:19:44.082508: E tensorflow/compiler/mlir/lite/stablehlo/transforms/op_stat_pass.cc:119] Unsupported data type.\n",
      "2024-01-12 16:19:44.082515: E tensorflow/compiler/mlir/lite/stablehlo/transforms/op_stat_pass.cc:119] Unsupported data type.\n",
      "2024-01-12 16:19:44.082522: E tensorflow/compiler/mlir/lite/stablehlo/transforms/op_stat_pass.cc:119] Unsupported data type.\n",
      "2024-01-12 16:19:44.082528: E tensorflow/compiler/mlir/lite/stablehlo/transforms/op_stat_pass.cc:119] Unsupported data type.\n",
      "2024-01-12 16:19:44.082534: E tensorflow/compiler/mlir/lite/stablehlo/transforms/op_stat_pass.cc:119] Unsupported data type.\n",
      "2024-01-12 16:19:44.082542: E tensorflow/compiler/mlir/lite/stablehlo/transforms/op_stat_pass.cc:119] Unsupported data type.\n",
      "2024-01-12 16:19:44.082548: E tensorflow/compiler/mlir/lite/stablehlo/transforms/op_stat_pass.cc:119] Unsupported data type.\n",
      "2024-01-12 16:19:44.082555: E tensorflow/compiler/mlir/lite/stablehlo/transforms/op_stat_pass.cc:119] Unsupported data type.\n",
      "2024-01-12 16:19:44.082568: E tensorflow/compiler/mlir/lite/stablehlo/transforms/op_stat_pass.cc:119] Unsupported data type.\n",
      "2024-01-12 16:19:44.082574: E tensorflow/compiler/mlir/lite/stablehlo/transforms/op_stat_pass.cc:119] Unsupported data type.\n",
      "2024-01-12 16:19:44.082578: E tensorflow/compiler/mlir/lite/stablehlo/transforms/op_stat_pass.cc:119] Unsupported data type.\n",
      "2024-01-12 16:19:44.082582: E tensorflow/compiler/mlir/lite/stablehlo/transforms/op_stat_pass.cc:119] Unsupported data type.\n",
      "2024-01-12 16:19:44.082585: E tensorflow/compiler/mlir/lite/stablehlo/transforms/op_stat_pass.cc:119] Unsupported data type.\n",
      "2024-01-12 16:19:44.082590: E tensorflow/compiler/mlir/lite/stablehlo/transforms/op_stat_pass.cc:119] Unsupported data type.\n",
      "2024-01-12 16:19:44.082593: E tensorflow/compiler/mlir/lite/stablehlo/transforms/op_stat_pass.cc:119] Unsupported data type.\n",
      "2024-01-12 16:19:44.082597: E tensorflow/compiler/mlir/lite/stablehlo/transforms/op_stat_pass.cc:119] Unsupported data type.\n",
      "2024-01-12 16:19:44.082616: E tensorflow/compiler/mlir/lite/stablehlo/transforms/op_stat_pass.cc:119] Unsupported data type.\n",
      "2024-01-12 16:19:44.082621: E tensorflow/compiler/mlir/lite/stablehlo/transforms/op_stat_pass.cc:119] Unsupported data type.\n",
      "2024-01-12 16:19:44.082633: E tensorflow/compiler/mlir/lite/stablehlo/transforms/op_stat_pass.cc:119] Unsupported data type.\n",
      "2024-01-12 16:19:44.082640: E tensorflow/compiler/mlir/lite/stablehlo/transforms/op_stat_pass.cc:119] Unsupported data type.\n",
      "2024-01-12 16:19:44.082644: E tensorflow/compiler/mlir/lite/stablehlo/transforms/op_stat_pass.cc:119] Unsupported data type.\n",
      "2024-01-12 16:19:44.082650: E tensorflow/compiler/mlir/lite/stablehlo/transforms/op_stat_pass.cc:119] Unsupported data type.\n",
      "2024-01-12 16:19:44.082656: E tensorflow/compiler/mlir/lite/stablehlo/transforms/op_stat_pass.cc:119] Unsupported data type.\n",
      "2024-01-12 16:19:44.082662: E tensorflow/compiler/mlir/lite/stablehlo/transforms/op_stat_pass.cc:119] Unsupported data type.\n",
      "2024-01-12 16:19:44.082667: E tensorflow/compiler/mlir/lite/stablehlo/transforms/op_stat_pass.cc:119] Unsupported data type.\n",
      "2024-01-12 16:19:44.082675: E tensorflow/compiler/mlir/lite/stablehlo/transforms/op_stat_pass.cc:119] Unsupported data type.\n",
      "2024-01-12 16:19:44.082680: E tensorflow/compiler/mlir/lite/stablehlo/transforms/op_stat_pass.cc:119] Unsupported data type.\n",
      "2024-01-12 16:19:44.082684: E tensorflow/compiler/mlir/lite/stablehlo/transforms/op_stat_pass.cc:119] Unsupported data type.\n",
      "2024-01-12 16:19:44.082688: E tensorflow/compiler/mlir/lite/stablehlo/transforms/op_stat_pass.cc:119] Unsupported data type.\n",
      "2024-01-12 16:19:44.082691: E tensorflow/compiler/mlir/lite/stablehlo/transforms/op_stat_pass.cc:119] Unsupported data type.\n",
      "2024-01-12 16:19:44.082695: E tensorflow/compiler/mlir/lite/stablehlo/transforms/op_stat_pass.cc:119] Unsupported data type.\n",
      "2024-01-12 16:19:44.082701: E tensorflow/compiler/mlir/lite/stablehlo/transforms/op_stat_pass.cc:119] Unsupported data type.\n",
      "2024-01-12 16:19:44.082709: E tensorflow/compiler/mlir/lite/stablehlo/transforms/op_stat_pass.cc:119] Unsupported data type.\n",
      "2024-01-12 16:19:44.082727: E tensorflow/compiler/mlir/lite/stablehlo/transforms/op_stat_pass.cc:119] Unsupported data type.\n",
      "2024-01-12 16:19:44.082731: E tensorflow/compiler/mlir/lite/stablehlo/transforms/op_stat_pass.cc:119] Unsupported data type.\n",
      "2024-01-12 16:19:44.082735: E tensorflow/compiler/mlir/lite/stablehlo/transforms/op_stat_pass.cc:119] Unsupported data type.\n",
      "2024-01-12 16:19:44.082739: E tensorflow/compiler/mlir/lite/stablehlo/transforms/op_stat_pass.cc:119] Unsupported data type.\n",
      "2024-01-12 16:19:44.082743: E tensorflow/compiler/mlir/lite/stablehlo/transforms/op_stat_pass.cc:119] Unsupported data type.\n",
      "2024-01-12 16:19:44.082956: E tensorflow/compiler/mlir/lite/stablehlo/transforms/op_stat_pass.cc:119] Unsupported data type.\n",
      "Summary on the non-converted ops:\n",
      "---------------------------------\n",
      " * Accepted dialects: tfl, builtin, func\n",
      " * Non-Converted Ops: 301, Total Ops 1793, % non-converted = 16.79 %\n",
      " * 250 ARITH ops, 47 TF ops, 4 TF_SAVED_MODEL ops\n",
      "\n",
      "- arith.constant:  250 occurrences  (: 5, i64: 11, f32: 179, i1: 5, i32: 50)\n",
      "\n",
      "  (i1: 1, i32: 1)\n",
      "\n",
      "\n",
      "- tf.AsString:    1 occurrences  (: 1)\n",
      "- tf.CaseFoldUTF8:    1 occurrences  (: 1)\n",
      "- tf.ConcatV2:    1 occurrences  (: 1)\n",
      "- tf.DenseBincount:    1 occurrences  (i64: 1)\n",
      "- tf.EnsureShape:    2 occurrences  (: 1, i64: 1)\n",
      "- tf.HashTableV2:    2 occurrences  (: 2)\n",
      "- tf.If:    2 occurrences  (i1: 2)\n",
      "- tf.LookupTableExportV2:    1 occurrences  (: 1)\n",
      "- tf.LookupTableFindV2:    2 occurrences  (i64: 2)\n",
      "- tf.LookupTableSizeV2:    2 occurrences  (i64: 2)\n",
      "- tf.NormalizeUTF8:    1 occurrences  (: 1)\n",
      "- tf.RaggedGather:    2 occurrences  (i64: 2)\n",
      "- tf.RaggedTensorToTensor:    1 occurrences  (i64: 1)\n",
      "- tf.RegexSplitWithOffsets:    1 occurrences  (: 1)\n",
      "- tf.StaticRegexFullMatch:    1 occurrences  (i1: 1)\n",
      "- tf.StaticRegexReplace:    4 occurrences  (: 4)\n",
      "- tf.StridedSlice:    9 occurrences  (i1: 9)\n",
      "- tf.StringSplitV2:    1 occurrences  (i64: 1)\n",
      "- tf.StringToHashBucketFast:    2 occurrences  (i64: 2)\n",
      "- tf.TensorListReserve:    1 occurrences  (: 1)\n",
      "- tf.TensorListSetItem:    2 occurrences  (: 2)\n",
      "- tf.TensorListStack:    2 occurrences  (i64: 2)\n",
      "- tf.UnsortedSegmentJoin:    2 occurrences  (: 2)\n",
      "- tf.UnsortedSegmentSum:    1 occurrences  (i64: 1)\n",
      "- tf.WordpieceTokenizeWithOffsets:    2 occurrences  (: 2)\n",
      "- tf_saved_model.asset:    4 occurrences\n",
      "  (i64: 10, f32: 147, i32: 3)\n",
      "  (i64: 1)\n",
      "  (f32: 24)\n",
      "  (i1: 4)\n",
      "  (i64: 2, f32: 12, i32: 11)\n",
      "  (i64: 8, i1: 18, i32: 28)\n",
      "  (i64: 2)\n",
      "  (: 11, i64: 3)\n",
      "  (i1: 1)\n",
      "  (i64: 2, i1: 30, i32: 6)\n",
      "  (i64: 4, f32: 40, i1: 4, i32: 2)\n",
      "  (f32: 65)\n",
      "  (: 3, i64: 5, f32: 2, i32: 45)\n",
      "  (i1: 1)\n",
      "  (i1: 4)\n",
      "  (i1: 4)\n",
      "  (i1: 4)\n",
      "  (i1: 32)\n",
      "  (i1: 2)\n",
      "  (i64: 2, i32: 4)\n",
      "  (f32: 40)\n",
      "  (i64: 1, i32: 1)\n",
      "  (i64: 3, f32: 106, i32: 3)\n",
      "  (i64: 1, i32: 1)\n",
      "\n",
      "  (i1: 4)\n",
      "  (i64: 4, i32: 46)\n",
      "  (i64: 6, i32: 11)\n",
      "  (i1: 18)\n",
      "  (i64: 2, i32: 4)\n",
      "  (i32: 59)\n",
      "  (: 3, i64: 22, f32: 124, i1: 17, i32: 24)\n",
      "  (f32: 20)\n",
      "  (i64: 2, i1: 4)\n",
      "  (i64: 10, i32: 77)\n",
      "  (f32: 12)\n",
      "  (f32: 20)\n",
      "  (: 1, i64: 41, f32: 3, i1: 12, i32: 39)\n",
      "  (i64: 9, f32: 32, i32: 6)\n",
      "  (i64: 3)\n",
      "  (i64: 1)\n",
      "  (i64: 4, f32: 100)\n",
      "  (i32: 11)\n",
      "  (i64: 4)\n",
      "  (i32: 1)\n",
      "\n",
      "2024-01-12 16:19:44.163691: W tensorflow/compiler/mlir/lite/flatbuffer_export.cc:2910] Graph contains the following resource op(s), that use(s) resource type. Currently, the resource type is not natively supported in TFLite. Please consider not using the resource type if there are issues with either TFLite converter or TFLite runtime:\n",
      "Resource ops: HashTableV2, LookupTableExportV2, LookupTableFindV2, LookupTableSizeV2, WordpieceTokenizeWithOffsets\n",
      "Details:\n",
      "\ttf.HashTableV2() -> (tensor<!tf_type.resource>) : {container = \"\", device = \"\", key_dtype = !tf_type.string, shared_name = \"hash_table_en_vocab.txt_-2_-1_load_18_1611\", use_node_name_sharing = true, value_dtype = i64}\n",
      "\ttf.HashTableV2() -> (tensor<!tf_type.resource>) : {container = \"\", device = \"\", key_dtype = !tf_type.string, shared_name = \"hash_table_mn_vocab.txt_-2_-1_load_18_1190\", use_node_name_sharing = true, value_dtype = i64}\n",
      "\ttf.LookupTableExportV2(tensor<!tf_type.resource>) -> (tensor<*x!tf_type.string>, tensor<*xi64>) : {device = \"\"}\n",
      "\ttf.LookupTableFindV2(tensor<!tf_type.resource>, tensor<?x!tf_type.string>, tensor<i64>) -> (tensor<*xi64>) : {device = \"\"}\n",
      "\ttf.LookupTableSizeV2(tensor<!tf_type.resource>) -> (tensor<i64>) : {device = \"\"}\n",
      "\ttf.WordpieceTokenizeWithOffsets(tensor<0x!tf_type.string>, tensor<!tf_type.resource>) -> (tensor<?x!tf_type.string>, tensor<1xi64>, tensor<?xi64>, tensor<?xi64>) : {device = \"\", max_bytes_per_word = 100 : i64, max_chars_per_token = 0 : i64, output_row_partition_type = \"row_splits\", split_unknown_characters = false, suffix_indicator = \"##\", unknown_token = \"[UNK]\", use_unknown_token = true}\n",
      "\ttf.WordpieceTokenizeWithOffsets(tensor<?x!tf_type.string>, tensor<!tf_type.resource>) -> (tensor<?x!tf_type.string>, tensor<?xi64>, tensor<?xi64>, tensor<?xi64>) : {device = \"\", max_bytes_per_word = 100 : i64, max_chars_per_token = 0 : i64, output_row_partition_type = \"row_splits\", split_unknown_characters = false, suffix_indicator = \"##\", unknown_token = \"[UNK]\", use_unknown_token = true}\n",
      "2024-01-12 16:19:44.163723: W tensorflow/compiler/mlir/lite/flatbuffer_export.cc:2921] TFLite interpreter needs to link Flex delegate in order to run the model since it contains the following Select TFop(s):\n",
      "Flex ops: FlexAsString, FlexCaseFoldUTF8, FlexConcatV2, FlexDenseBincount, FlexEnsureShape, FlexHashTableV2, FlexLookupTableExportV2, FlexLookupTableFindV2, FlexLookupTableSizeV2, FlexNormalizeUTF8, FlexRaggedGather, FlexRaggedTensorToTensor, FlexRegexSplitWithOffsets, FlexStaticRegexFullMatch, FlexStaticRegexReplace, FlexStridedSlice, FlexStringSplitV2, FlexStringToHashBucketFast, FlexTensorListReserve, FlexTensorListSetItem, FlexTensorListStack, FlexUnsortedSegmentJoin, FlexUnsortedSegmentSum, FlexWordpieceTokenizeWithOffsets\n",
      "Details:\n",
      "\ttf.AsString(tensor<1x!tf_type.string>) -> (tensor<1x!tf_type.string>) : {device = \"\", fill = \"\", precision = -1 : i64, scientific = false, shortest = false, width = -1 : i64}\n",
      "\ttf.CaseFoldUTF8(tensor<1x!tf_type.string>) -> (tensor<1x!tf_type.string>) : {device = \"\"}\n",
      "\ttf.ConcatV2(tensor<?x!tf_type.string>, tensor<1x!tf_type.string>, tensor<i32>) -> (tensor<?x!tf_type.string>) : {device = \"\"}\n",
      "\ttf.DenseBincount(tensor<?xi32>, tensor<i32>, tensor<0xi64>) -> (tensor<?xi64>) : {T = i64, Tidx = i32, binary_output = false, device = \"\"}\n",
      "\ttf.EnsureShape(tensor<*x!tf_type.string>) -> (tensor<?x!tf_type.string>) : {device = \"\", shape = #tf_type.shape<?>}\n",
      "\ttf.EnsureShape(tensor<*xi64>) -> (tensor<?xi64>) : {device = \"\", shape = #tf_type.shape<?>}\n",
      "\ttf.HashTableV2() -> (tensor<!tf_type.resource>) : {container = \"\", device = \"\", key_dtype = !tf_type.string, shared_name = \"hash_table_en_vocab.txt_-2_-1_load_18_1611\", use_node_name_sharing = true, value_dtype = i64}\n",
      "\ttf.HashTableV2() -> (tensor<!tf_type.resource>) : {container = \"\", device = \"\", key_dtype = !tf_type.string, shared_name = \"hash_table_mn_vocab.txt_-2_-1_load_18_1190\", use_node_name_sharing = true, value_dtype = i64}\n",
      "\ttf.LookupTableExportV2(tensor<!tf_type.resource>) -> (tensor<*x!tf_type.string>, tensor<*xi64>) : {device = \"\"}\n",
      "\ttf.LookupTableFindV2(tensor<!tf_type.resource>, tensor<?x!tf_type.string>, tensor<i64>) -> (tensor<*xi64>) : {device = \"\"}\n",
      "\ttf.LookupTableSizeV2(tensor<!tf_type.resource>) -> (tensor<i64>) : {device = \"\"}\n",
      "\ttf.NormalizeUTF8(tensor<1x!tf_type.string>) -> (tensor<1x!tf_type.string>) : {device = \"\", normalization_form = \"NFD\"}\n",
      "\ttf.RaggedGather(tensor<?xi64>, tensor<?xi64>, tensor<?xi64>) -> (tensor<?xi64>, tensor<?xi64>) : {device = \"\"}\n",
      "\ttf.RaggedTensorToTensor(tensor<i64>, tensor<?xi64>, tensor<i64>, tensor<?xi64>) -> (tensor<?x?xi64>) : {T = i64, Tindex = i64, Tshape = i64, device = \"\", num_row_partition_tensors = 1 : i64, row_partition_types = [\"ROW_SPLITS\"]}\n",
      "\ttf.RegexSplitWithOffsets(tensor<1x!tf_type.string>, tensor<!tf_type.string>, tensor<!tf_type.string>) -> (tensor<?x!tf_type.string>, tensor<?xi64>, tensor<?xi64>, tensor<?xi64>) : {device = \"\"}\n",
      "\ttf.StaticRegexFullMatch(tensor<?x!tf_type.string>) -> (tensor<?xi1>) : {device = \"\", pattern = \"\\\\[PAD\\\\]|\\\\[START\\\\]|\\\\[END\\\\]\"}\n",
      "\ttf.StaticRegexReplace(tensor<1x!tf_type.string>) -> (tensor<1x!tf_type.string>) : {device = \"\", pattern = \" \\\\#\\\\#\", replace_global = true, rewrite = \"\"}\n",
      "\ttf.StaticRegexReplace(tensor<1x!tf_type.string>) -> (tensor<1x!tf_type.string>) : {device = \"\", pattern = \"\\\\p{Cc}|\\\\p{Cf}\", replace_global = true, rewrite = \" \"}\n",
      "\ttf.StaticRegexReplace(tensor<1x!tf_type.string>) -> (tensor<1x!tf_type.string>) : {device = \"\", pattern = \"\\\\p{Mn}\", replace_global = true, rewrite = \"\"}\n",
      "\ttf.StaticRegexReplace(tensor<1x!tf_type.string>) -> (tensor<1x!tf_type.string>) : {device = \"\", pattern = \"^ +| +$\", replace_global = true, rewrite = \"\"}\n",
      "\ttf.StridedSlice(tensor<?x?xi1>, tensor<3xi32>, tensor<3xi32>, tensor<3xi32>) -> (tensor<?x1x?xi1>) : {begin_mask = 5 : i64, device = \"\", ellipsis_mask = 0 : i64, end_mask = 5 : i64, new_axis_mask = 2 : i64, shrink_axis_mask = 0 : i64}\n",
      "\ttf.StridedSlice(tensor<?x?xi1>, tensor<3xi32>, tensor<3xi32>, tensor<3xi32>) -> (tensor<?x?x1xi1>) : {begin_mask = 3 : i64, device = \"\", ellipsis_mask = 0 : i64, end_mask = 3 : i64, new_axis_mask = 4 : i64, shrink_axis_mask = 0 : i64}\n",
      "\ttf.StringSplitV2(tensor<1x!tf_type.string>, tensor<!tf_type.string>) -> (tensor<?x2xi64>, tensor<?x!tf_type.string>, tensor<2xi64>) : {device = \"\", maxsplit = -1 : i64}\n",
      "\ttf.StringToHashBucketFast(tensor<?x!tf_type.string>) -> (tensor<?xi64>) : {device = \"\", num_buckets = 1 : i64}\n",
      "\ttf.TensorListReserve(tensor<i32>, tensor<i32>) -> (tensor<!tf_type.variant<tensor<*xi64>>>) : {device = \"\"}\n",
      "\ttf.TensorListSetItem(tensor<!tf_type.variant<tensor<*xi64>>>, tensor<i32>, tensor<1xi64>) -> (tensor<!tf_type.variant<tensor<*xi64>>>) : {device = \"\", resize_if_index_out_of_bounds = true}\n",
      "\ttf.TensorListSetItem(tensor<!tf_type.variant<tensor<*xi64>>>, tensor<i32>, tensor<?xi64>) -> (tensor<!tf_type.variant<tensor<*xi64>>>) : {device = \"\", resize_if_index_out_of_bounds = true}\n",
      "\ttf.TensorListStack(tensor<!tf_type.variant<tensor<*xi64>>>, tensor<1xi32>) -> (tensor<?x1xi64>) : {device = \"\", num_elements = -1 : i64}\n",
      "\ttf.UnsortedSegmentJoin(tensor<?x!tf_type.string>, tensor<?xi64>, tensor<i32>) -> (tensor<1x!tf_type.string>) : {Tindices = i64, Tnumsegments = i32, device = \"\", separator = \" \"}\n",
      "\ttf.UnsortedSegmentJoin(tensor<?x!tf_type.string>, tensor<?xi64>, tensor<i32>) -> (tensor<?x!tf_type.string>) : {Tindices = i64, Tnumsegments = i32, device = \"\", separator = \" \"}\n",
      "\ttf.UnsortedSegmentSum(tensor<?xi64>, tensor<?xi64>, tensor<i32>) -> (tensor<?xi64>) : {device = \"\"}\n",
      "\ttf.WordpieceTokenizeWithOffsets(tensor<0x!tf_type.string>, tensor<!tf_type.resource>) -> (tensor<?x!tf_type.string>, tensor<1xi64>, tensor<?xi64>, tensor<?xi64>) : {device = \"\", max_bytes_per_word = 100 : i64, max_chars_per_token = 0 : i64, output_row_partition_type = \"row_splits\", split_unknown_characters = false, suffix_indicator = \"##\", unknown_token = \"[UNK]\", use_unknown_token = true}\n",
      "\ttf.WordpieceTokenizeWithOffsets(tensor<?x!tf_type.string>, tensor<!tf_type.resource>) -> (tensor<?x!tf_type.string>, tensor<?xi64>, tensor<?xi64>, tensor<?xi64>) : {device = \"\", max_bytes_per_word = 100 : i64, max_chars_per_token = 0 : i64, output_row_partition_type = \"row_splits\", split_unknown_characters = false, suffix_indicator = \"##\", unknown_token = \"[UNK]\", use_unknown_token = true}\n",
      "See instructions: https://www.tensorflow.org/lite/guide/ops_select\n"
     ]
    }
   ],
   "source": [
    "# Convert the model.\n",
    "\n",
    "converter = tf.lite.TFLiteConverter.from_keras_model(translator)\n",
    "converter.target_spec.supported_ops = [tf.lite.OpsSet.TFLITE_BUILTINS, tf.lite.OpsSet.SELECT_TF_OPS]\n",
    "#converter._experimental_lower_tensor_list_ops = False\n",
    "tflite_model = converter.convert()\n"
   ]
  },
  {
   "cell_type": "code",
   "execution_count": 85,
   "id": "4637fbf4-a8e7-404c-b0d7-79f3b222c2f2",
   "metadata": {},
   "outputs": [],
   "source": [
    "# Save the model.\n",
    "\n",
    "with open('model.tflite', 'wb') as f:\n",
    "  f.write(tflite_model)\n"
   ]
  },
  {
   "cell_type": "code",
   "execution_count": 106,
   "id": "35ac4891-b4e4-4fd5-881f-649a2cbbf308",
   "metadata": {},
   "outputs": [
    {
     "name": "stderr",
     "output_type": "stream",
     "text": [
      "WARNING:absl:Found untraced functions such as _update_step_xla, positional_embedding_4_layer_call_fn, positional_embedding_4_layer_call_and_return_conditional_losses, dropout_35_layer_call_fn, dropout_35_layer_call_and_return_conditional_losses while saving (showing 5 of 317). These functions will not be directly callable after loading.\n"
     ]
    },
    {
     "name": "stdout",
     "output_type": "stream",
     "text": [
      "INFO:tensorflow:Assets written to: translate_manipuri_model/2/assets\n"
     ]
    },
    {
     "name": "stderr",
     "output_type": "stream",
     "text": [
      "INFO:tensorflow:Assets written to: translate_manipuri_model/2/assets\n"
     ]
    }
   ],
   "source": [
    "translator_model_name = \"translate_manipuri_model/2\"\n",
    "tf.saved_model.save(translator, export_dir = translator_model_name)"
   ]
  },
  {
   "cell_type": "markdown",
   "id": "25ff5f4b-cfc3-4614-9d5b-260525e2b1fe",
   "metadata": {},
   "source": [
    "**Save a TF lite model as well **"
   ]
  },
  {
   "cell_type": "code",
   "execution_count": 2,
   "id": "9600f1f8-21c3-44c0-89a2-99b52a98172b",
   "metadata": {},
   "outputs": [],
   "source": [
    "translator_model_name = \"translate_manipuri_model/2\"\n",
    "converter = tf.lite.TFLiteConverter.from_keras_model(translator_model_name)\n",
    "converter.target_spec.supported_ops = [ tf.lite.OpsSet.TFLITE_BUILTINS, tf.lite.OpsSet.SELECT_TF_OPS]"
   ]
  },
  {
   "cell_type": "code",
   "execution_count": 87,
   "id": "42d7756f-9f71-41de-9976-249acd49eedc",
   "metadata": {},
   "outputs": [
    {
     "ename": "AttributeError",
     "evalue": "'str' object has no attribute 'call'",
     "output_type": "error",
     "traceback": [
      "\u001b[0;31m---------------------------------------------------------------------------\u001b[0m",
      "\u001b[0;31mAttributeError\u001b[0m                            Traceback (most recent call last)",
      "Cell \u001b[0;32mIn [87], line 2\u001b[0m\n\u001b[1;32m      1\u001b[0m converter\u001b[38;5;241m.\u001b[39mexperimental_new_converter \u001b[38;5;241m=\u001b[39m \u001b[38;5;28;01mTrue\u001b[39;00m\n\u001b[0;32m----> 2\u001b[0m tflite_model \u001b[38;5;241m=\u001b[39m \u001b[43mconverter\u001b[49m\u001b[38;5;241;43m.\u001b[39;49m\u001b[43mconvert\u001b[49m\u001b[43m(\u001b[49m\u001b[43m)\u001b[49m\n\u001b[1;32m      3\u001b[0m \u001b[38;5;66;03m# Save the model.\u001b[39;00m\n\u001b[1;32m      4\u001b[0m model_name \u001b[38;5;241m=\u001b[39m \u001b[38;5;124m\"\u001b[39m\u001b[38;5;124mtm.tflite\u001b[39m\u001b[38;5;124m\"\u001b[39m\n",
      "File \u001b[0;32m/media2/translateManipuriInstallation/miniconda3/envs/homl3/lib/python3.10/site-packages/tensorflow/lite/python/lite.py:933\u001b[0m, in \u001b[0;36m_export_metrics.<locals>.wrapper\u001b[0;34m(self, *args, **kwargs)\u001b[0m\n\u001b[1;32m    930\u001b[0m \u001b[38;5;129m@functools\u001b[39m\u001b[38;5;241m.\u001b[39mwraps(convert_func)\n\u001b[1;32m    931\u001b[0m \u001b[38;5;28;01mdef\u001b[39;00m \u001b[38;5;21mwrapper\u001b[39m(\u001b[38;5;28mself\u001b[39m, \u001b[38;5;241m*\u001b[39margs, \u001b[38;5;241m*\u001b[39m\u001b[38;5;241m*\u001b[39mkwargs):\n\u001b[1;32m    932\u001b[0m   \u001b[38;5;66;03m# pylint: disable=protected-access\u001b[39;00m\n\u001b[0;32m--> 933\u001b[0m   \u001b[38;5;28;01mreturn\u001b[39;00m \u001b[38;5;28;43mself\u001b[39;49m\u001b[38;5;241;43m.\u001b[39;49m\u001b[43m_convert_and_export_metrics\u001b[49m\u001b[43m(\u001b[49m\u001b[43mconvert_func\u001b[49m\u001b[43m,\u001b[49m\u001b[43m \u001b[49m\u001b[38;5;241;43m*\u001b[39;49m\u001b[43margs\u001b[49m\u001b[43m,\u001b[49m\u001b[43m \u001b[49m\u001b[38;5;241;43m*\u001b[39;49m\u001b[38;5;241;43m*\u001b[39;49m\u001b[43mkwargs\u001b[49m\u001b[43m)\u001b[49m\n",
      "File \u001b[0;32m/media2/translateManipuriInstallation/miniconda3/envs/homl3/lib/python3.10/site-packages/tensorflow/lite/python/lite.py:911\u001b[0m, in \u001b[0;36mTFLiteConverterBase._convert_and_export_metrics\u001b[0;34m(self, convert_func, *args, **kwargs)\u001b[0m\n\u001b[1;32m    909\u001b[0m \u001b[38;5;28mself\u001b[39m\u001b[38;5;241m.\u001b[39m_save_conversion_params_metric()\n\u001b[1;32m    910\u001b[0m start_time \u001b[38;5;241m=\u001b[39m time\u001b[38;5;241m.\u001b[39mprocess_time()\n\u001b[0;32m--> 911\u001b[0m result \u001b[38;5;241m=\u001b[39m \u001b[43mconvert_func\u001b[49m\u001b[43m(\u001b[49m\u001b[38;5;28;43mself\u001b[39;49m\u001b[43m,\u001b[49m\u001b[43m \u001b[49m\u001b[38;5;241;43m*\u001b[39;49m\u001b[43margs\u001b[49m\u001b[43m,\u001b[49m\u001b[43m \u001b[49m\u001b[38;5;241;43m*\u001b[39;49m\u001b[38;5;241;43m*\u001b[39;49m\u001b[43mkwargs\u001b[49m\u001b[43m)\u001b[49m\n\u001b[1;32m    912\u001b[0m elapsed_time_ms \u001b[38;5;241m=\u001b[39m (time\u001b[38;5;241m.\u001b[39mprocess_time() \u001b[38;5;241m-\u001b[39m start_time) \u001b[38;5;241m*\u001b[39m \u001b[38;5;241m1000\u001b[39m\n\u001b[1;32m    913\u001b[0m \u001b[38;5;28;01mif\u001b[39;00m result:\n",
      "File \u001b[0;32m/media2/translateManipuriInstallation/miniconda3/envs/homl3/lib/python3.10/site-packages/tensorflow/lite/python/lite.py:1347\u001b[0m, in \u001b[0;36mTFLiteKerasModelConverterV2.convert\u001b[0;34m(self)\u001b[0m\n\u001b[1;32m   1343\u001b[0m \u001b[38;5;28;01mif\u001b[39;00m saved_model_convert_result:\n\u001b[1;32m   1344\u001b[0m   \u001b[38;5;28;01mreturn\u001b[39;00m saved_model_convert_result\n\u001b[1;32m   1346\u001b[0m graph_def, input_tensors, output_tensors, frozen_func \u001b[38;5;241m=\u001b[39m (\n\u001b[0;32m-> 1347\u001b[0m     \u001b[38;5;28;43mself\u001b[39;49m\u001b[38;5;241;43m.\u001b[39;49m\u001b[43m_freeze_keras_model\u001b[49m\u001b[43m(\u001b[49m\u001b[43m)\u001b[49m)\n\u001b[1;32m   1349\u001b[0m graph_def \u001b[38;5;241m=\u001b[39m \u001b[38;5;28mself\u001b[39m\u001b[38;5;241m.\u001b[39m_optimize_tf_model(graph_def, input_tensors,\n\u001b[1;32m   1350\u001b[0m                                     output_tensors, frozen_func)\n\u001b[1;32m   1352\u001b[0m \u001b[38;5;28;01mreturn\u001b[39;00m \u001b[38;5;28msuper\u001b[39m(TFLiteKerasModelConverterV2,\n\u001b[1;32m   1353\u001b[0m              \u001b[38;5;28mself\u001b[39m)\u001b[38;5;241m.\u001b[39mconvert(graph_def, input_tensors, output_tensors)\n",
      "File \u001b[0;32m/media2/translateManipuriInstallation/miniconda3/envs/homl3/lib/python3.10/site-packages/tensorflow/lite/python/convert_phase.py:215\u001b[0m, in \u001b[0;36mconvert_phase.<locals>.actual_decorator.<locals>.wrapper\u001b[0;34m(*args, **kwargs)\u001b[0m\n\u001b[1;32m    213\u001b[0m \u001b[38;5;28;01mexcept\u001b[39;00m \u001b[38;5;167;01mException\u001b[39;00m \u001b[38;5;28;01mas\u001b[39;00m error:\n\u001b[1;32m    214\u001b[0m   report_error_message(\u001b[38;5;28mstr\u001b[39m(error))\n\u001b[0;32m--> 215\u001b[0m   \u001b[38;5;28;01mraise\u001b[39;00m error \u001b[38;5;28;01mfrom\u001b[39;00m \u001b[38;5;28;01mNone\u001b[39;00m\n",
      "File \u001b[0;32m/media2/translateManipuriInstallation/miniconda3/envs/homl3/lib/python3.10/site-packages/tensorflow/lite/python/convert_phase.py:205\u001b[0m, in \u001b[0;36mconvert_phase.<locals>.actual_decorator.<locals>.wrapper\u001b[0;34m(*args, **kwargs)\u001b[0m\n\u001b[1;32m    202\u001b[0m \u001b[38;5;129m@functools\u001b[39m\u001b[38;5;241m.\u001b[39mwraps(func)\n\u001b[1;32m    203\u001b[0m \u001b[38;5;28;01mdef\u001b[39;00m \u001b[38;5;21mwrapper\u001b[39m(\u001b[38;5;241m*\u001b[39margs, \u001b[38;5;241m*\u001b[39m\u001b[38;5;241m*\u001b[39mkwargs):\n\u001b[1;32m    204\u001b[0m   \u001b[38;5;28;01mtry\u001b[39;00m:\n\u001b[0;32m--> 205\u001b[0m     \u001b[38;5;28;01mreturn\u001b[39;00m \u001b[43mfunc\u001b[49m\u001b[43m(\u001b[49m\u001b[38;5;241;43m*\u001b[39;49m\u001b[43margs\u001b[49m\u001b[43m,\u001b[49m\u001b[43m \u001b[49m\u001b[38;5;241;43m*\u001b[39;49m\u001b[38;5;241;43m*\u001b[39;49m\u001b[43mkwargs\u001b[49m\u001b[43m)\u001b[49m\n\u001b[1;32m    206\u001b[0m   \u001b[38;5;28;01mexcept\u001b[39;00m ConverterError \u001b[38;5;28;01mas\u001b[39;00m converter_error:\n\u001b[1;32m    207\u001b[0m     \u001b[38;5;28;01mif\u001b[39;00m converter_error\u001b[38;5;241m.\u001b[39merrors:\n",
      "File \u001b[0;32m/media2/translateManipuriInstallation/miniconda3/envs/homl3/lib/python3.10/site-packages/tensorflow/lite/python/lite.py:1290\u001b[0m, in \u001b[0;36mTFLiteKerasModelConverterV2._freeze_keras_model\u001b[0;34m(self)\u001b[0m\n\u001b[1;32m   1284\u001b[0m input_signature \u001b[38;5;241m=\u001b[39m \u001b[38;5;28;01mNone\u001b[39;00m\n\u001b[1;32m   1285\u001b[0m \u001b[38;5;66;03m# If the model's call is not a `tf.function`, then we need to first get its\u001b[39;00m\n\u001b[1;32m   1286\u001b[0m \u001b[38;5;66;03m# input signature from `model_input_signature` method. We can't directly\u001b[39;00m\n\u001b[1;32m   1287\u001b[0m \u001b[38;5;66;03m# call `trace_model_call` because otherwise the batch dimension is set\u001b[39;00m\n\u001b[1;32m   1288\u001b[0m \u001b[38;5;66;03m# to None.\u001b[39;00m\n\u001b[1;32m   1289\u001b[0m \u001b[38;5;66;03m# Once we have better support for dynamic shapes, we can remove this.\u001b[39;00m\n\u001b[0;32m-> 1290\u001b[0m \u001b[38;5;28;01mif\u001b[39;00m \u001b[38;5;129;01mnot\u001b[39;00m \u001b[38;5;28misinstance\u001b[39m(\u001b[38;5;28;43mself\u001b[39;49m\u001b[38;5;241;43m.\u001b[39;49m\u001b[43m_keras_model\u001b[49m\u001b[38;5;241;43m.\u001b[39;49m\u001b[43mcall\u001b[49m, _def_function\u001b[38;5;241m.\u001b[39mFunction):\n\u001b[1;32m   1291\u001b[0m   \u001b[38;5;66;03m# Pass `keep_original_batch_size=True` will ensure that we get an input\u001b[39;00m\n\u001b[1;32m   1292\u001b[0m   \u001b[38;5;66;03m# signature including the batch dimension specified by the user.\u001b[39;00m\n\u001b[1;32m   1293\u001b[0m   \u001b[38;5;66;03m# TODO(b/169898786): Use the Keras public API when TFLite moves out of TF\u001b[39;00m\n\u001b[1;32m   1294\u001b[0m   input_signature \u001b[38;5;241m=\u001b[39m _model_input_signature(\n\u001b[1;32m   1295\u001b[0m       \u001b[38;5;28mself\u001b[39m\u001b[38;5;241m.\u001b[39m_keras_model, keep_original_batch_size\u001b[38;5;241m=\u001b[39m\u001b[38;5;28;01mTrue\u001b[39;00m)\n\u001b[1;32m   1297\u001b[0m \u001b[38;5;66;03m# TODO(b/169898786): Use the Keras public API when TFLite moves out of TF\u001b[39;00m\n",
      "\u001b[0;31mAttributeError\u001b[0m: 'str' object has no attribute 'call'"
     ]
    }
   ],
   "source": [
    "converter.experimental_new_converter = True\n",
    "tflite_model = converter.convert()\n",
    "# Save the model.\n",
    "model_name = \"tm.tflite\"\n",
    "with open(model_name, 'wb') as f:\n",
    "  f.write(tflite_model)"
   ]
  },
  {
   "cell_type": "code",
   "execution_count": 67,
   "id": "50f9ad3a-db86-469c-9871-d549241771e1",
   "metadata": {},
   "outputs": [],
   "source": [
    "reloaded = tf.saved_model.load(translator_model_name)"
   ]
  },
  {
   "cell_type": "code",
   "execution_count": 69,
   "id": "63d6ae30-7b5f-467c-bcf9-e0f1585abd73",
   "metadata": {},
   "outputs": [
    {
     "ename": "ValueError",
     "evalue": "Python inputs incompatible with input_signature:\n  inputs: (\n    I am not your teacher.)\n  input_signature: (\n    TensorSpec(shape=(1,), dtype=tf.string, name=None)).",
     "output_type": "error",
     "traceback": [
      "\u001b[0;31m---------------------------------------------------------------------------\u001b[0m",
      "\u001b[0;31mValueError\u001b[0m                                Traceback (most recent call last)",
      "Cell \u001b[0;32mIn [69], line 1\u001b[0m\n\u001b[0;32m----> 1\u001b[0m \u001b[43mreloaded\u001b[49m\u001b[43m(\u001b[49m\u001b[38;5;124;43m'\u001b[39;49m\u001b[38;5;124;43mI am not your teacher.\u001b[39;49m\u001b[38;5;124;43m'\u001b[39;49m\u001b[43m)\u001b[49m\u001b[38;5;241m.\u001b[39mnumpy()\u001b[38;5;241m.\u001b[39mdecode(\u001b[38;5;124m'\u001b[39m\u001b[38;5;124mutf-8\u001b[39m\u001b[38;5;124m'\u001b[39m)\n",
      "File \u001b[0;32m/media2/translateManipuriInstallation/miniconda3/envs/homl3/lib/python3.10/site-packages/tensorflow/python/saved_model/load.py:732\u001b[0m, in \u001b[0;36m_call_attribute\u001b[0;34m(instance, *args, **kwargs)\u001b[0m\n\u001b[1;32m    731\u001b[0m \u001b[38;5;28;01mdef\u001b[39;00m \u001b[38;5;21m_call_attribute\u001b[39m(instance, \u001b[38;5;241m*\u001b[39margs, \u001b[38;5;241m*\u001b[39m\u001b[38;5;241m*\u001b[39mkwargs):\n\u001b[0;32m--> 732\u001b[0m   \u001b[38;5;28;01mreturn\u001b[39;00m \u001b[43minstance\u001b[49m\u001b[38;5;241;43m.\u001b[39;49m\u001b[38;5;21;43m__call__\u001b[39;49m\u001b[43m(\u001b[49m\u001b[38;5;241;43m*\u001b[39;49m\u001b[43margs\u001b[49m\u001b[43m,\u001b[49m\u001b[43m \u001b[49m\u001b[38;5;241;43m*\u001b[39;49m\u001b[38;5;241;43m*\u001b[39;49m\u001b[43mkwargs\u001b[49m\u001b[43m)\u001b[49m\n",
      "File \u001b[0;32m/media2/translateManipuriInstallation/miniconda3/envs/homl3/lib/python3.10/site-packages/tensorflow/python/util/traceback_utils.py:153\u001b[0m, in \u001b[0;36mfilter_traceback.<locals>.error_handler\u001b[0;34m(*args, **kwargs)\u001b[0m\n\u001b[1;32m    151\u001b[0m \u001b[38;5;28;01mexcept\u001b[39;00m \u001b[38;5;167;01mException\u001b[39;00m \u001b[38;5;28;01mas\u001b[39;00m e:\n\u001b[1;32m    152\u001b[0m   filtered_tb \u001b[38;5;241m=\u001b[39m _process_traceback_frames(e\u001b[38;5;241m.\u001b[39m__traceback__)\n\u001b[0;32m--> 153\u001b[0m   \u001b[38;5;28;01mraise\u001b[39;00m e\u001b[38;5;241m.\u001b[39mwith_traceback(filtered_tb) \u001b[38;5;28;01mfrom\u001b[39;00m \u001b[38;5;28;01mNone\u001b[39;00m\n\u001b[1;32m    154\u001b[0m \u001b[38;5;28;01mfinally\u001b[39;00m:\n\u001b[1;32m    155\u001b[0m   \u001b[38;5;28;01mdel\u001b[39;00m filtered_tb\n",
      "File \u001b[0;32m/media2/translateManipuriInstallation/miniconda3/envs/homl3/lib/python3.10/site-packages/tensorflow/python/eager/polymorphic_function/function_spec.py:698\u001b[0m, in \u001b[0;36mconvert_inputs_to_signature\u001b[0;34m(inputs, input_signature, flat_input_signature)\u001b[0m\n\u001b[1;32m    690\u001b[0m       \u001b[38;5;28;01mraise\u001b[39;00m \u001b[38;5;167;01mValueError\u001b[39;00m(\u001b[38;5;124m\"\u001b[39m\u001b[38;5;124mWhen input_signature is provided, all inputs to \u001b[39m\u001b[38;5;124m\"\u001b[39m\n\u001b[1;32m    691\u001b[0m                        \u001b[38;5;124m\"\u001b[39m\u001b[38;5;124mthe Python function must be convertible to \u001b[39m\u001b[38;5;124m\"\u001b[39m\n\u001b[1;32m    692\u001b[0m                        \u001b[38;5;124m\"\u001b[39m\u001b[38;5;124mtensors:\u001b[39m\u001b[38;5;130;01m\\n\u001b[39;00m\u001b[38;5;124m\"\u001b[39m\n\u001b[1;32m    693\u001b[0m                        \u001b[38;5;124mf\u001b[39m\u001b[38;5;124m\"\u001b[39m\u001b[38;5;132;01m{\u001b[39;00mformat_error_message(inputs,\u001b[38;5;250m \u001b[39minput_signature)\u001b[38;5;132;01m}\u001b[39;00m\u001b[38;5;124m.\u001b[39m\u001b[38;5;124m\"\u001b[39m)\n\u001b[1;32m    695\u001b[0m \u001b[38;5;28;01mif\u001b[39;00m \u001b[38;5;28many\u001b[39m(\u001b[38;5;129;01mnot\u001b[39;00m spec\u001b[38;5;241m.\u001b[39mis_compatible_with(other) \u001b[38;5;28;01mfor\u001b[39;00m spec, other \u001b[38;5;129;01min\u001b[39;00m \u001b[38;5;28mzip\u001b[39m(\n\u001b[1;32m    696\u001b[0m     flat_input_signature,\n\u001b[1;32m    697\u001b[0m     flatten_inputs)):\n\u001b[0;32m--> 698\u001b[0m   \u001b[38;5;28;01mraise\u001b[39;00m \u001b[38;5;167;01mValueError\u001b[39;00m(\u001b[38;5;124m\"\u001b[39m\u001b[38;5;124mPython inputs incompatible with input_signature:\u001b[39m\u001b[38;5;130;01m\\n\u001b[39;00m\u001b[38;5;124m\"\u001b[39m\n\u001b[1;32m    699\u001b[0m                    \u001b[38;5;124mf\u001b[39m\u001b[38;5;124m\"\u001b[39m\u001b[38;5;132;01m{\u001b[39;00mformat_error_message(inputs,\u001b[38;5;250m \u001b[39minput_signature)\u001b[38;5;132;01m}\u001b[39;00m\u001b[38;5;124m.\u001b[39m\u001b[38;5;124m\"\u001b[39m)\n\u001b[1;32m    701\u001b[0m \u001b[38;5;28;01mif\u001b[39;00m need_packing:\n\u001b[1;32m    702\u001b[0m   inputs \u001b[38;5;241m=\u001b[39m nest\u001b[38;5;241m.\u001b[39mpack_sequence_as(\n\u001b[1;32m    703\u001b[0m       structure\u001b[38;5;241m=\u001b[39minput_signature,\n\u001b[1;32m    704\u001b[0m       flat_sequence\u001b[38;5;241m=\u001b[39mflatten_inputs,\n\u001b[1;32m    705\u001b[0m       expand_composites\u001b[38;5;241m=\u001b[39m\u001b[38;5;28;01mTrue\u001b[39;00m)\n",
      "\u001b[0;31mValueError\u001b[0m: Python inputs incompatible with input_signature:\n  inputs: (\n    I am not your teacher.)\n  input_signature: (\n    TensorSpec(shape=(1,), dtype=tf.string, name=None))."
     ]
    }
   ],
   "source": [
    "reloaded('I am not your teacher.').numpy().decode('utf-8')"
   ]
  },
  {
   "cell_type": "code",
   "execution_count": 11,
   "id": "c313ec49-8b67-4943-93ea-178e82d0dabc",
   "metadata": {},
   "outputs": [],
   "source": [
    "import xlrd\n",
    "from shutil import copy\n",
    "#from translate import translate_bengali_scripts"
   ]
  },
  {
   "cell_type": "code",
   "execution_count": 12,
   "id": "b6a52709-fa4e-4da6-a0cd-c96257e64498",
   "metadata": {},
   "outputs": [],
   "source": [
    "file_location = \"/home/surchand/projects/TranslateManipuri/processing/test.xls\""
   ]
  },
  {
   "cell_type": "code",
   "execution_count": 15,
   "id": "ea4eb7ae-b3c0-4c15-91a0-3f5766f413d6",
   "metadata": {},
   "outputs": [],
   "source": [
    "def inference(file_location):\n",
    "    #reloaded = tf.saved_model.load(translator_model_name)\n",
    "    readb = xlrd.open_workbook(file_location)\n",
    "    writeb = readb\n",
    "    readsheet = readb.sheet_by_index(0)\n",
    "    writesheet = writeb.get_sheet(0)\n",
    "    nrows = readsheet.nrows\n",
    "    # skip the first rows as it is header\n",
    "    for i in range(1, nrows):\n",
    "        data = readsheet.cell(i, 0).value\n",
    "        data = data.replace(\"'\", \"''\")\n",
    "        predicted = reloaded(data).numpy().decode('utf-8')\n",
    "        print(\"English{}=>Manipuri{}\".format(data, predicted))\n",
    "        writesheet.write(i, 1, predicted)\n",
    "        bengali_text = translate_bengali_scripts(predicted)\n",
    "        writesheet.write(i, 2, bengali_text)\n",
    "    writeb.save(file_location)"
   ]
  },
  {
   "cell_type": "code",
   "execution_count": 16,
   "id": "83de1701-5f4c-4eeb-9f26-9fe8c311c091",
   "metadata": {},
   "outputs": [
    {
     "ename": "XLRDError",
     "evalue": "Can't load sheets after releasing resources.",
     "output_type": "error",
     "traceback": [
      "\u001b[0;31m---------------------------------------------------------------------------\u001b[0m",
      "\u001b[0;31mXLRDError\u001b[0m                                 Traceback (most recent call last)",
      "Cell \u001b[0;32mIn [16], line 1\u001b[0m\n\u001b[0;32m----> 1\u001b[0m \u001b[43minference\u001b[49m\u001b[43m(\u001b[49m\u001b[43mfile_location\u001b[49m\u001b[43m)\u001b[49m\n",
      "Cell \u001b[0;32mIn [15], line 6\u001b[0m, in \u001b[0;36minference\u001b[0;34m(file_location)\u001b[0m\n\u001b[1;32m      4\u001b[0m writeb \u001b[38;5;241m=\u001b[39m readb\n\u001b[1;32m      5\u001b[0m readsheet \u001b[38;5;241m=\u001b[39m readb\u001b[38;5;241m.\u001b[39msheet_by_index(\u001b[38;5;241m0\u001b[39m)\n\u001b[0;32m----> 6\u001b[0m writesheet \u001b[38;5;241m=\u001b[39m \u001b[43mwriteb\u001b[49m\u001b[38;5;241;43m.\u001b[39;49m\u001b[43mget_sheet\u001b[49m\u001b[43m(\u001b[49m\u001b[38;5;241;43m0\u001b[39;49m\u001b[43m)\u001b[49m\n\u001b[1;32m      7\u001b[0m nrows \u001b[38;5;241m=\u001b[39m readsheet\u001b[38;5;241m.\u001b[39mnrows\n\u001b[1;32m      8\u001b[0m \u001b[38;5;66;03m# skip the first rows as it is header\u001b[39;00m\n",
      "File \u001b[0;32m~/.local/lib/python3.10/site-packages/xlrd/book.py:698\u001b[0m, in \u001b[0;36mBook.get_sheet\u001b[0;34m(self, sh_number, update_pos)\u001b[0m\n\u001b[1;32m    696\u001b[0m \u001b[38;5;28;01mdef\u001b[39;00m \u001b[38;5;21mget_sheet\u001b[39m(\u001b[38;5;28mself\u001b[39m, sh_number, update_pos\u001b[38;5;241m=\u001b[39m\u001b[38;5;28;01mTrue\u001b[39;00m):\n\u001b[1;32m    697\u001b[0m     \u001b[38;5;28;01mif\u001b[39;00m \u001b[38;5;28mself\u001b[39m\u001b[38;5;241m.\u001b[39m_resources_released:\n\u001b[0;32m--> 698\u001b[0m         \u001b[38;5;28;01mraise\u001b[39;00m XLRDError(\u001b[38;5;124m\"\u001b[39m\u001b[38;5;124mCan\u001b[39m\u001b[38;5;124m'\u001b[39m\u001b[38;5;124mt load sheets after releasing resources.\u001b[39m\u001b[38;5;124m\"\u001b[39m)\n\u001b[1;32m    699\u001b[0m     \u001b[38;5;28;01mif\u001b[39;00m update_pos:\n\u001b[1;32m    700\u001b[0m         \u001b[38;5;28mself\u001b[39m\u001b[38;5;241m.\u001b[39m_position \u001b[38;5;241m=\u001b[39m \u001b[38;5;28mself\u001b[39m\u001b[38;5;241m.\u001b[39m_sh_abs_posn[sh_number]\n",
      "\u001b[0;31mXLRDError\u001b[0m: Can't load sheets after releasing resources."
     ]
    }
   ],
   "source": [
    "inference(file_location)"
   ]
  },
  {
   "cell_type": "code",
   "execution_count": null,
   "id": "c4983a0e-0ee0-4495-8ddc-997bdbd0ed87",
   "metadata": {},
   "outputs": [],
   "source": []
  }
 ],
 "metadata": {
  "kernelspec": {
   "display_name": "Python 3 (ipykernel)",
   "language": "python",
   "name": "python3"
  },
  "language_info": {
   "codemirror_mode": {
    "name": "ipython",
    "version": 3
   },
   "file_extension": ".py",
   "mimetype": "text/x-python",
   "name": "python",
   "nbconvert_exporter": "python",
   "pygments_lexer": "ipython3",
   "version": "3.10.13"
  }
 },
 "nbformat": 4,
 "nbformat_minor": 5
}
