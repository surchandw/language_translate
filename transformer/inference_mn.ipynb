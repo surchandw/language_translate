{
 "cells": [
  {
   "cell_type": "code",
   "execution_count": 2,
   "id": "72ed3138-f178-4f66-a442-2bb01b33dab4",
   "metadata": {},
   "outputs": [
    {
     "name": "stdout",
     "output_type": "stream",
     "text": [
      "Requirement already satisfied: protobuf in /media2/translateManipuriInstallation/miniconda3/envs/homl3/lib/python3.10/site-packages (3.19.6)\n",
      "Note: you may need to restart the kernel to use updated packages.\n"
     ]
    }
   ],
   "source": [
    "pip install protobuf"
   ]
  },
  {
   "cell_type": "code",
   "execution_count": 1,
   "id": "3cb8b48a-b529-45dc-9c31-e985528ebca9",
   "metadata": {},
   "outputs": [
    {
     "ename": "ImportError",
     "evalue": "cannot import name 'builder' from 'google.protobuf.internal' (/media2/translateManipuriInstallation/miniconda3/envs/homl3/lib/python3.10/site-packages/google/protobuf/internal/__init__.py)",
     "output_type": "error",
     "traceback": [
      "\u001b[0;31m---------------------------------------------------------------------------\u001b[0m",
      "\u001b[0;31mImportError\u001b[0m                               Traceback (most recent call last)",
      "Cell \u001b[0;32mIn [1], line 1\u001b[0m\n\u001b[0;32m----> 1\u001b[0m \u001b[38;5;28;01mimport\u001b[39;00m \u001b[38;5;21;01mtensorflow\u001b[39;00m \u001b[38;5;28;01mas\u001b[39;00m \u001b[38;5;21;01mtf\u001b[39;00m\n\u001b[1;32m      3\u001b[0m file_location \u001b[38;5;241m=\u001b[39m \u001b[38;5;124m\"\u001b[39m\u001b[38;5;124m/home/surchand/projects/TranslateManipuri/processing/test.txt\u001b[39m\u001b[38;5;124m\"\u001b[39m\n\u001b[1;32m      4\u001b[0m out_file \u001b[38;5;241m=\u001b[39m \u001b[38;5;124m\"\u001b[39m\u001b[38;5;124m/home/surchand/projects/TranslateManipuri/processing/test_out.txt\u001b[39m\u001b[38;5;124m\"\u001b[39m\n",
      "File \u001b[0;32m/media2/translateManipuriInstallation/miniconda3/envs/homl3/lib/python3.10/site-packages/tensorflow/__init__.py:47\u001b[0m\n\u001b[1;32m     44\u001b[0m \u001b[38;5;28;01mfrom\u001b[39;00m \u001b[38;5;21;01mtensorflow\u001b[39;00m\u001b[38;5;21;01m.\u001b[39;00m\u001b[38;5;21;01mpython\u001b[39;00m \u001b[38;5;28;01mimport\u001b[39;00m tf2 \u001b[38;5;28;01mas\u001b[39;00m _tf2\n\u001b[1;32m     45\u001b[0m _tf2\u001b[38;5;241m.\u001b[39menable()\n\u001b[0;32m---> 47\u001b[0m \u001b[38;5;28;01mfrom\u001b[39;00m \u001b[38;5;21;01mtensorflow\u001b[39;00m\u001b[38;5;21;01m.\u001b[39;00m\u001b[38;5;21;01m_api\u001b[39;00m\u001b[38;5;21;01m.\u001b[39;00m\u001b[38;5;21;01mv2\u001b[39;00m \u001b[38;5;28;01mimport\u001b[39;00m __internal__\n\u001b[1;32m     48\u001b[0m \u001b[38;5;28;01mfrom\u001b[39;00m \u001b[38;5;21;01mtensorflow\u001b[39;00m\u001b[38;5;21;01m.\u001b[39;00m\u001b[38;5;21;01m_api\u001b[39;00m\u001b[38;5;21;01m.\u001b[39;00m\u001b[38;5;21;01mv2\u001b[39;00m \u001b[38;5;28;01mimport\u001b[39;00m __operators__\n\u001b[1;32m     49\u001b[0m \u001b[38;5;28;01mfrom\u001b[39;00m \u001b[38;5;21;01mtensorflow\u001b[39;00m\u001b[38;5;21;01m.\u001b[39;00m\u001b[38;5;21;01m_api\u001b[39;00m\u001b[38;5;21;01m.\u001b[39;00m\u001b[38;5;21;01mv2\u001b[39;00m \u001b[38;5;28;01mimport\u001b[39;00m audio\n",
      "File \u001b[0;32m/media2/translateManipuriInstallation/miniconda3/envs/homl3/lib/python3.10/site-packages/tensorflow/_api/v2/__internal__/__init__.py:8\u001b[0m\n\u001b[1;32m      3\u001b[0m \u001b[38;5;124;03m\"\"\"Public API for tf._api.v2.__internal__ namespace\u001b[39;00m\n\u001b[1;32m      4\u001b[0m \u001b[38;5;124;03m\"\"\"\u001b[39;00m\n\u001b[1;32m      6\u001b[0m \u001b[38;5;28;01mimport\u001b[39;00m \u001b[38;5;21;01msys\u001b[39;00m \u001b[38;5;28;01mas\u001b[39;00m \u001b[38;5;21;01m_sys\u001b[39;00m\n\u001b[0;32m----> 8\u001b[0m \u001b[38;5;28;01mfrom\u001b[39;00m \u001b[38;5;21;01mtensorflow\u001b[39;00m\u001b[38;5;21;01m.\u001b[39;00m\u001b[38;5;21;01m_api\u001b[39;00m\u001b[38;5;21;01m.\u001b[39;00m\u001b[38;5;21;01mv2\u001b[39;00m\u001b[38;5;21;01m.\u001b[39;00m\u001b[38;5;21;01m__internal__\u001b[39;00m \u001b[38;5;28;01mimport\u001b[39;00m autograph\n\u001b[1;32m      9\u001b[0m \u001b[38;5;28;01mfrom\u001b[39;00m \u001b[38;5;21;01mtensorflow\u001b[39;00m\u001b[38;5;21;01m.\u001b[39;00m\u001b[38;5;21;01m_api\u001b[39;00m\u001b[38;5;21;01m.\u001b[39;00m\u001b[38;5;21;01mv2\u001b[39;00m\u001b[38;5;21;01m.\u001b[39;00m\u001b[38;5;21;01m__internal__\u001b[39;00m \u001b[38;5;28;01mimport\u001b[39;00m decorator\n\u001b[1;32m     10\u001b[0m \u001b[38;5;28;01mfrom\u001b[39;00m \u001b[38;5;21;01mtensorflow\u001b[39;00m\u001b[38;5;21;01m.\u001b[39;00m\u001b[38;5;21;01m_api\u001b[39;00m\u001b[38;5;21;01m.\u001b[39;00m\u001b[38;5;21;01mv2\u001b[39;00m\u001b[38;5;21;01m.\u001b[39;00m\u001b[38;5;21;01m__internal__\u001b[39;00m \u001b[38;5;28;01mimport\u001b[39;00m dispatch\n",
      "File \u001b[0;32m/media2/translateManipuriInstallation/miniconda3/envs/homl3/lib/python3.10/site-packages/tensorflow/_api/v2/__internal__/autograph/__init__.py:8\u001b[0m\n\u001b[1;32m      3\u001b[0m \u001b[38;5;124;03m\"\"\"Public API for tf._api.v2.__internal__.autograph namespace\u001b[39;00m\n\u001b[1;32m      4\u001b[0m \u001b[38;5;124;03m\"\"\"\u001b[39;00m\n\u001b[1;32m      6\u001b[0m \u001b[38;5;28;01mimport\u001b[39;00m \u001b[38;5;21;01msys\u001b[39;00m \u001b[38;5;28;01mas\u001b[39;00m \u001b[38;5;21;01m_sys\u001b[39;00m\n\u001b[0;32m----> 8\u001b[0m \u001b[38;5;28;01mfrom\u001b[39;00m \u001b[38;5;21;01mtensorflow\u001b[39;00m\u001b[38;5;21;01m.\u001b[39;00m\u001b[38;5;21;01mpython\u001b[39;00m\u001b[38;5;21;01m.\u001b[39;00m\u001b[38;5;21;01mautograph\u001b[39;00m\u001b[38;5;21;01m.\u001b[39;00m\u001b[38;5;21;01mcore\u001b[39;00m\u001b[38;5;21;01m.\u001b[39;00m\u001b[38;5;21;01mag_ctx\u001b[39;00m \u001b[38;5;28;01mimport\u001b[39;00m control_status_ctx \u001b[38;5;66;03m# line: 34\u001b[39;00m\n\u001b[1;32m      9\u001b[0m \u001b[38;5;28;01mfrom\u001b[39;00m \u001b[38;5;21;01mtensorflow\u001b[39;00m\u001b[38;5;21;01m.\u001b[39;00m\u001b[38;5;21;01mpython\u001b[39;00m\u001b[38;5;21;01m.\u001b[39;00m\u001b[38;5;21;01mautograph\u001b[39;00m\u001b[38;5;21;01m.\u001b[39;00m\u001b[38;5;21;01mimpl\u001b[39;00m\u001b[38;5;21;01m.\u001b[39;00m\u001b[38;5;21;01mapi\u001b[39;00m \u001b[38;5;28;01mimport\u001b[39;00m tf_convert \u001b[38;5;66;03m# line: 493\u001b[39;00m\n",
      "File \u001b[0;32m/media2/translateManipuriInstallation/miniconda3/envs/homl3/lib/python3.10/site-packages/tensorflow/python/autograph/core/ag_ctx.py:21\u001b[0m\n\u001b[1;32m     18\u001b[0m \u001b[38;5;28;01mimport\u001b[39;00m \u001b[38;5;21;01minspect\u001b[39;00m\n\u001b[1;32m     19\u001b[0m \u001b[38;5;28;01mimport\u001b[39;00m \u001b[38;5;21;01mthreading\u001b[39;00m\n\u001b[0;32m---> 21\u001b[0m \u001b[38;5;28;01mfrom\u001b[39;00m \u001b[38;5;21;01mtensorflow\u001b[39;00m\u001b[38;5;21;01m.\u001b[39;00m\u001b[38;5;21;01mpython\u001b[39;00m\u001b[38;5;21;01m.\u001b[39;00m\u001b[38;5;21;01mautograph\u001b[39;00m\u001b[38;5;21;01m.\u001b[39;00m\u001b[38;5;21;01mutils\u001b[39;00m \u001b[38;5;28;01mimport\u001b[39;00m ag_logging\n\u001b[1;32m     22\u001b[0m \u001b[38;5;28;01mfrom\u001b[39;00m \u001b[38;5;21;01mtensorflow\u001b[39;00m\u001b[38;5;21;01m.\u001b[39;00m\u001b[38;5;21;01mpython\u001b[39;00m\u001b[38;5;21;01m.\u001b[39;00m\u001b[38;5;21;01mutil\u001b[39;00m\u001b[38;5;21;01m.\u001b[39;00m\u001b[38;5;21;01mtf_export\u001b[39;00m \u001b[38;5;28;01mimport\u001b[39;00m tf_export\n\u001b[1;32m     25\u001b[0m stacks \u001b[38;5;241m=\u001b[39m threading\u001b[38;5;241m.\u001b[39mlocal()\n",
      "File \u001b[0;32m/media2/translateManipuriInstallation/miniconda3/envs/homl3/lib/python3.10/site-packages/tensorflow/python/autograph/utils/__init__.py:17\u001b[0m\n\u001b[1;32m      1\u001b[0m \u001b[38;5;66;03m# Copyright 2016 The TensorFlow Authors. All Rights Reserved.\u001b[39;00m\n\u001b[1;32m      2\u001b[0m \u001b[38;5;66;03m#\u001b[39;00m\n\u001b[1;32m      3\u001b[0m \u001b[38;5;66;03m# Licensed under the Apache License, Version 2.0 (the \"License\");\u001b[39;00m\n\u001b[0;32m   (...)\u001b[0m\n\u001b[1;32m     13\u001b[0m \u001b[38;5;66;03m# limitations under the License.\u001b[39;00m\n\u001b[1;32m     14\u001b[0m \u001b[38;5;66;03m# ==============================================================================\u001b[39;00m\n\u001b[1;32m     15\u001b[0m \u001b[38;5;124;03m\"\"\"Utility module that contains APIs usable in the generated code.\"\"\"\u001b[39;00m\n\u001b[0;32m---> 17\u001b[0m \u001b[38;5;28;01mfrom\u001b[39;00m \u001b[38;5;21;01mtensorflow\u001b[39;00m\u001b[38;5;21;01m.\u001b[39;00m\u001b[38;5;21;01mpython\u001b[39;00m\u001b[38;5;21;01m.\u001b[39;00m\u001b[38;5;21;01mautograph\u001b[39;00m\u001b[38;5;21;01m.\u001b[39;00m\u001b[38;5;21;01mutils\u001b[39;00m\u001b[38;5;21;01m.\u001b[39;00m\u001b[38;5;21;01mcontext_managers\u001b[39;00m \u001b[38;5;28;01mimport\u001b[39;00m control_dependency_on_returns\n\u001b[1;32m     18\u001b[0m \u001b[38;5;28;01mfrom\u001b[39;00m \u001b[38;5;21;01mtensorflow\u001b[39;00m\u001b[38;5;21;01m.\u001b[39;00m\u001b[38;5;21;01mpython\u001b[39;00m\u001b[38;5;21;01m.\u001b[39;00m\u001b[38;5;21;01mautograph\u001b[39;00m\u001b[38;5;21;01m.\u001b[39;00m\u001b[38;5;21;01mutils\u001b[39;00m\u001b[38;5;21;01m.\u001b[39;00m\u001b[38;5;21;01mmisc\u001b[39;00m \u001b[38;5;28;01mimport\u001b[39;00m alias_tensors\n\u001b[1;32m     19\u001b[0m \u001b[38;5;28;01mfrom\u001b[39;00m \u001b[38;5;21;01mtensorflow\u001b[39;00m\u001b[38;5;21;01m.\u001b[39;00m\u001b[38;5;21;01mpython\u001b[39;00m\u001b[38;5;21;01m.\u001b[39;00m\u001b[38;5;21;01mautograph\u001b[39;00m\u001b[38;5;21;01m.\u001b[39;00m\u001b[38;5;21;01mutils\u001b[39;00m\u001b[38;5;21;01m.\u001b[39;00m\u001b[38;5;21;01mtensor_list\u001b[39;00m \u001b[38;5;28;01mimport\u001b[39;00m dynamic_list_append\n",
      "File \u001b[0;32m/media2/translateManipuriInstallation/miniconda3/envs/homl3/lib/python3.10/site-packages/tensorflow/python/autograph/utils/context_managers.py:19\u001b[0m\n\u001b[1;32m     15\u001b[0m \u001b[38;5;124;03m\"\"\"Various context managers.\"\"\"\u001b[39;00m\n\u001b[1;32m     17\u001b[0m \u001b[38;5;28;01mimport\u001b[39;00m \u001b[38;5;21;01mcontextlib\u001b[39;00m\n\u001b[0;32m---> 19\u001b[0m \u001b[38;5;28;01mfrom\u001b[39;00m \u001b[38;5;21;01mtensorflow\u001b[39;00m\u001b[38;5;21;01m.\u001b[39;00m\u001b[38;5;21;01mpython\u001b[39;00m\u001b[38;5;21;01m.\u001b[39;00m\u001b[38;5;21;01mframework\u001b[39;00m \u001b[38;5;28;01mimport\u001b[39;00m ops\n\u001b[1;32m     20\u001b[0m \u001b[38;5;28;01mfrom\u001b[39;00m \u001b[38;5;21;01mtensorflow\u001b[39;00m\u001b[38;5;21;01m.\u001b[39;00m\u001b[38;5;21;01mpython\u001b[39;00m\u001b[38;5;21;01m.\u001b[39;00m\u001b[38;5;21;01mops\u001b[39;00m \u001b[38;5;28;01mimport\u001b[39;00m tensor_array_ops\n\u001b[1;32m     23\u001b[0m \u001b[38;5;28;01mdef\u001b[39;00m \u001b[38;5;21mcontrol_dependency_on_returns\u001b[39m(return_value):\n",
      "File \u001b[0;32m/media2/translateManipuriInstallation/miniconda3/envs/homl3/lib/python3.10/site-packages/tensorflow/python/framework/ops.py:29\u001b[0m\n\u001b[1;32m     26\u001b[0m \u001b[38;5;28;01mfrom\u001b[39;00m \u001b[38;5;21;01mabsl\u001b[39;00m \u001b[38;5;28;01mimport\u001b[39;00m app\n\u001b[1;32m     27\u001b[0m \u001b[38;5;28;01mimport\u001b[39;00m \u001b[38;5;21;01mnumpy\u001b[39;00m \u001b[38;5;28;01mas\u001b[39;00m \u001b[38;5;21;01mnp\u001b[39;00m\n\u001b[0;32m---> 29\u001b[0m \u001b[38;5;28;01mfrom\u001b[39;00m \u001b[38;5;21;01mtensorflow\u001b[39;00m\u001b[38;5;21;01m.\u001b[39;00m\u001b[38;5;21;01mcore\u001b[39;00m\u001b[38;5;21;01m.\u001b[39;00m\u001b[38;5;21;01mframework\u001b[39;00m \u001b[38;5;28;01mimport\u001b[39;00m attr_value_pb2\n\u001b[1;32m     30\u001b[0m \u001b[38;5;28;01mfrom\u001b[39;00m \u001b[38;5;21;01mtensorflow\u001b[39;00m\u001b[38;5;21;01m.\u001b[39;00m\u001b[38;5;21;01mcore\u001b[39;00m\u001b[38;5;21;01m.\u001b[39;00m\u001b[38;5;21;01mframework\u001b[39;00m \u001b[38;5;28;01mimport\u001b[39;00m full_type_pb2\n\u001b[1;32m     31\u001b[0m \u001b[38;5;28;01mfrom\u001b[39;00m \u001b[38;5;21;01mtensorflow\u001b[39;00m\u001b[38;5;21;01m.\u001b[39;00m\u001b[38;5;21;01mcore\u001b[39;00m\u001b[38;5;21;01m.\u001b[39;00m\u001b[38;5;21;01mframework\u001b[39;00m \u001b[38;5;28;01mimport\u001b[39;00m function_pb2\n",
      "File \u001b[0;32m/media2/translateManipuriInstallation/miniconda3/envs/homl3/lib/python3.10/site-packages/tensorflow/core/framework/attr_value_pb2.py:5\u001b[0m\n\u001b[1;32m      1\u001b[0m \u001b[38;5;66;03m# -*- coding: utf-8 -*-\u001b[39;00m\n\u001b[1;32m      2\u001b[0m \u001b[38;5;66;03m# Generated by the protocol buffer compiler.  DO NOT EDIT!\u001b[39;00m\n\u001b[1;32m      3\u001b[0m \u001b[38;5;66;03m# source: tensorflow/core/framework/attr_value.proto\u001b[39;00m\n\u001b[1;32m      4\u001b[0m \u001b[38;5;124;03m\"\"\"Generated protocol buffer code.\"\"\"\u001b[39;00m\n\u001b[0;32m----> 5\u001b[0m \u001b[38;5;28;01mfrom\u001b[39;00m \u001b[38;5;21;01mgoogle\u001b[39;00m\u001b[38;5;21;01m.\u001b[39;00m\u001b[38;5;21;01mprotobuf\u001b[39;00m\u001b[38;5;21;01m.\u001b[39;00m\u001b[38;5;21;01minternal\u001b[39;00m \u001b[38;5;28;01mimport\u001b[39;00m builder \u001b[38;5;28;01mas\u001b[39;00m _builder\n\u001b[1;32m      6\u001b[0m \u001b[38;5;28;01mfrom\u001b[39;00m \u001b[38;5;21;01mgoogle\u001b[39;00m\u001b[38;5;21;01m.\u001b[39;00m\u001b[38;5;21;01mprotobuf\u001b[39;00m \u001b[38;5;28;01mimport\u001b[39;00m descriptor \u001b[38;5;28;01mas\u001b[39;00m _descriptor\n\u001b[1;32m      7\u001b[0m \u001b[38;5;28;01mfrom\u001b[39;00m \u001b[38;5;21;01mgoogle\u001b[39;00m\u001b[38;5;21;01m.\u001b[39;00m\u001b[38;5;21;01mprotobuf\u001b[39;00m \u001b[38;5;28;01mimport\u001b[39;00m descriptor_pool \u001b[38;5;28;01mas\u001b[39;00m _descriptor_pool\n",
      "\u001b[0;31mImportError\u001b[0m: cannot import name 'builder' from 'google.protobuf.internal' (/media2/translateManipuriInstallation/miniconda3/envs/homl3/lib/python3.10/site-packages/google/protobuf/internal/__init__.py)"
     ]
    }
   ],
   "source": [
    "import tensorflow as tf\n",
    "\n",
    "file_location = \"/home/surchand/projects/TranslateManipuri/processing/test.txt\"\n",
    "out_file = \"/home/surchand/projects/TranslateManipuri/processing/test_out.txt\""
   ]
  },
  {
   "cell_type": "code",
   "execution_count": 2,
   "id": "a7d855b4-e81f-4608-b18a-c64b1dceaecf",
   "metadata": {},
   "outputs": [],
   "source": [
    "def inference(file_location, translator_model_name):\n",
    "    reloaded = tf.saved_model.load(translator_model_name)\n",
    "    readb = open(file_location, \"r\")\n",
    "    writeb = open(out_file, \"w+\")\n",
    "    # skip the first rows as it is header\n",
    "    for i in readb:\n",
    "        data = i.replace(\"'\", \"''\")\n",
    "        print(\"i = {}\".format(i))\n",
    "        print(\"data = {}\".format(data))\n",
    "        #predicted = reloaded(data).numpy().decode('ISO-8859-1')\n",
    "        #print(\"English{}=>Manipuri{}\".format(data, predicted))\n",
    "        #writeb.write(predicted)\n",
    "        #bengali_text = translate_bengali_scripts(predicted)\n",
    "        #writesheet.write(i, 2, bengali_text)\n",
    "    #writeb.save(out_file)"
   ]
  },
  {
   "cell_type": "code",
   "execution_count": 13,
   "id": "abdc9300-e029-411f-9624-78f625bb506b",
   "metadata": {},
   "outputs": [],
   "source": [
    "translator_model_name = \"translate_manipuri_model/2\""
   ]
  },
  {
   "cell_type": "code",
   "execution_count": 14,
   "id": "9dd57ac8-9bf5-4ee3-bc53-6967f5579680",
   "metadata": {},
   "outputs": [],
   "source": [
    "reloaded = tf.saved_model.load(translator_model_name)"
   ]
  },
  {
   "cell_type": "code",
   "execution_count": 15,
   "id": "9b6bb8e7-1d5c-41aa-a82a-d9da768ac05d",
   "metadata": {},
   "outputs": [
    {
     "data": {
      "text/plain": [
       "{'prediction': TensorSpec(shape=(), dtype=tf.string, name='prediction')}"
      ]
     },
     "execution_count": 15,
     "metadata": {},
     "output_type": "execute_result"
    }
   ],
   "source": [
    "#reloaded.signatures['serving_default'].structured_outputs"
   ]
  },
  {
   "cell_type": "code",
   "execution_count": 12,
   "id": "a576a3ca-0547-4abe-b594-105dabec3f5a",
   "metadata": {},
   "outputs": [
    {
     "ename": "ValueError",
     "evalue": "Python inputs incompatible with input_signature:\n  inputs: (\n    He is my son)\n  input_signature: (\n    TensorSpec(shape=(None,), dtype=tf.string, name=None)).",
     "output_type": "error",
     "traceback": [
      "\u001b[0;31m---------------------------------------------------------------------------\u001b[0m",
      "\u001b[0;31mValueError\u001b[0m                                Traceback (most recent call last)",
      "Cell \u001b[0;32mIn [12], line 1\u001b[0m\n\u001b[0;32m----> 1\u001b[0m d \u001b[38;5;241m=\u001b[39m \u001b[43mreloaded\u001b[49m\u001b[43m(\u001b[49m\u001b[38;5;124;43m\"\u001b[39;49m\u001b[38;5;124;43mHe is my son\u001b[39;49m\u001b[38;5;124;43m\"\u001b[39;49m\u001b[43m)\u001b[49m\n",
      "File \u001b[0;32m/media2/translateManipuriInstallation/miniconda3/envs/homl3/lib/python3.10/site-packages/tensorflow/python/saved_model/load.py:732\u001b[0m, in \u001b[0;36m_call_attribute\u001b[0;34m(instance, *args, **kwargs)\u001b[0m\n\u001b[1;32m    731\u001b[0m \u001b[38;5;28;01mdef\u001b[39;00m \u001b[38;5;21m_call_attribute\u001b[39m(instance, \u001b[38;5;241m*\u001b[39margs, \u001b[38;5;241m*\u001b[39m\u001b[38;5;241m*\u001b[39mkwargs):\n\u001b[0;32m--> 732\u001b[0m   \u001b[38;5;28;01mreturn\u001b[39;00m \u001b[43minstance\u001b[49m\u001b[38;5;241;43m.\u001b[39;49m\u001b[38;5;21;43m__call__\u001b[39;49m\u001b[43m(\u001b[49m\u001b[38;5;241;43m*\u001b[39;49m\u001b[43margs\u001b[49m\u001b[43m,\u001b[49m\u001b[43m \u001b[49m\u001b[38;5;241;43m*\u001b[39;49m\u001b[38;5;241;43m*\u001b[39;49m\u001b[43mkwargs\u001b[49m\u001b[43m)\u001b[49m\n",
      "File \u001b[0;32m/media2/translateManipuriInstallation/miniconda3/envs/homl3/lib/python3.10/site-packages/tensorflow/python/util/traceback_utils.py:153\u001b[0m, in \u001b[0;36mfilter_traceback.<locals>.error_handler\u001b[0;34m(*args, **kwargs)\u001b[0m\n\u001b[1;32m    151\u001b[0m \u001b[38;5;28;01mexcept\u001b[39;00m \u001b[38;5;167;01mException\u001b[39;00m \u001b[38;5;28;01mas\u001b[39;00m e:\n\u001b[1;32m    152\u001b[0m   filtered_tb \u001b[38;5;241m=\u001b[39m _process_traceback_frames(e\u001b[38;5;241m.\u001b[39m__traceback__)\n\u001b[0;32m--> 153\u001b[0m   \u001b[38;5;28;01mraise\u001b[39;00m e\u001b[38;5;241m.\u001b[39mwith_traceback(filtered_tb) \u001b[38;5;28;01mfrom\u001b[39;00m \u001b[38;5;28;01mNone\u001b[39;00m\n\u001b[1;32m    154\u001b[0m \u001b[38;5;28;01mfinally\u001b[39;00m:\n\u001b[1;32m    155\u001b[0m   \u001b[38;5;28;01mdel\u001b[39;00m filtered_tb\n",
      "File \u001b[0;32m/media2/translateManipuriInstallation/miniconda3/envs/homl3/lib/python3.10/site-packages/tensorflow/python/eager/polymorphic_function/function_spec.py:698\u001b[0m, in \u001b[0;36mconvert_inputs_to_signature\u001b[0;34m(inputs, input_signature, flat_input_signature)\u001b[0m\n\u001b[1;32m    690\u001b[0m       \u001b[38;5;28;01mraise\u001b[39;00m \u001b[38;5;167;01mValueError\u001b[39;00m(\u001b[38;5;124m\"\u001b[39m\u001b[38;5;124mWhen input_signature is provided, all inputs to \u001b[39m\u001b[38;5;124m\"\u001b[39m\n\u001b[1;32m    691\u001b[0m                        \u001b[38;5;124m\"\u001b[39m\u001b[38;5;124mthe Python function must be convertible to \u001b[39m\u001b[38;5;124m\"\u001b[39m\n\u001b[1;32m    692\u001b[0m                        \u001b[38;5;124m\"\u001b[39m\u001b[38;5;124mtensors:\u001b[39m\u001b[38;5;130;01m\\n\u001b[39;00m\u001b[38;5;124m\"\u001b[39m\n\u001b[1;32m    693\u001b[0m                        \u001b[38;5;124mf\u001b[39m\u001b[38;5;124m\"\u001b[39m\u001b[38;5;132;01m{\u001b[39;00mformat_error_message(inputs,\u001b[38;5;250m \u001b[39minput_signature)\u001b[38;5;132;01m}\u001b[39;00m\u001b[38;5;124m.\u001b[39m\u001b[38;5;124m\"\u001b[39m)\n\u001b[1;32m    695\u001b[0m \u001b[38;5;28;01mif\u001b[39;00m \u001b[38;5;28many\u001b[39m(\u001b[38;5;129;01mnot\u001b[39;00m spec\u001b[38;5;241m.\u001b[39mis_compatible_with(other) \u001b[38;5;28;01mfor\u001b[39;00m spec, other \u001b[38;5;129;01min\u001b[39;00m \u001b[38;5;28mzip\u001b[39m(\n\u001b[1;32m    696\u001b[0m     flat_input_signature,\n\u001b[1;32m    697\u001b[0m     flatten_inputs)):\n\u001b[0;32m--> 698\u001b[0m   \u001b[38;5;28;01mraise\u001b[39;00m \u001b[38;5;167;01mValueError\u001b[39;00m(\u001b[38;5;124m\"\u001b[39m\u001b[38;5;124mPython inputs incompatible with input_signature:\u001b[39m\u001b[38;5;130;01m\\n\u001b[39;00m\u001b[38;5;124m\"\u001b[39m\n\u001b[1;32m    699\u001b[0m                    \u001b[38;5;124mf\u001b[39m\u001b[38;5;124m\"\u001b[39m\u001b[38;5;132;01m{\u001b[39;00mformat_error_message(inputs,\u001b[38;5;250m \u001b[39minput_signature)\u001b[38;5;132;01m}\u001b[39;00m\u001b[38;5;124m.\u001b[39m\u001b[38;5;124m\"\u001b[39m)\n\u001b[1;32m    701\u001b[0m \u001b[38;5;28;01mif\u001b[39;00m need_packing:\n\u001b[1;32m    702\u001b[0m   inputs \u001b[38;5;241m=\u001b[39m nest\u001b[38;5;241m.\u001b[39mpack_sequence_as(\n\u001b[1;32m    703\u001b[0m       structure\u001b[38;5;241m=\u001b[39minput_signature,\n\u001b[1;32m    704\u001b[0m       flat_sequence\u001b[38;5;241m=\u001b[39mflatten_inputs,\n\u001b[1;32m    705\u001b[0m       expand_composites\u001b[38;5;241m=\u001b[39m\u001b[38;5;28;01mTrue\u001b[39;00m)\n",
      "\u001b[0;31mValueError\u001b[0m: Python inputs incompatible with input_signature:\n  inputs: (\n    He is my son)\n  input_signature: (\n    TensorSpec(shape=(None,), dtype=tf.string, name=None))."
     ]
    }
   ],
   "source": [
    "d = reloaded(\"He is my son\")\n"
   ]
  },
  {
   "cell_type": "code",
   "execution_count": 16,
   "id": "7f06584c-b2a3-412f-84ca-93ab7922c9b2",
   "metadata": {},
   "outputs": [],
   "source": [
    "#converter = tf.lite.TFLiteConverter.from_keras_model(translator_model_name)\n",
    "converter = tf.lite.TFLiteConverter.from_saved_model(translator_model_name)"
   ]
  },
  {
   "cell_type": "code",
   "execution_count": 17,
   "id": "f26c688c-04ac-47fe-ad05-e46af1f14a40",
   "metadata": {},
   "outputs": [],
   "source": [
    "converter.target_spec.supported_ops = [tf.lite.OpsSet.TFLITE_BUILTINS, tf.lite.OpsSet.SELECT_TF_OPS]\n",
    "converter.optimizations = [tf.lite.Optimize.DEFAULT] # optional\n",
    "converter.target_spec.supported_types = [tf.float16] # optional\n",
    "converter._experimental_lower_tensor_list_ops = False"
   ]
  },
  {
   "cell_type": "code",
   "execution_count": 18,
   "id": "d30e9f76-88cf-46fd-9881-71c52b26aa96",
   "metadata": {},
   "outputs": [
    {
     "name": "stderr",
     "output_type": "stream",
     "text": [
      "2023-12-13 19:16:42.437026: W tensorflow/compiler/mlir/lite/python/tf_tfl_flatbuffer_helpers.cc:362] Ignored output_format.\n",
      "2023-12-13 19:16:42.437046: W tensorflow/compiler/mlir/lite/python/tf_tfl_flatbuffer_helpers.cc:365] Ignored drop_control_dependency.\n",
      "2023-12-13 19:16:42.437591: I tensorflow/cc/saved_model/reader.cc:45] Reading SavedModel from: translate_manipuri_model/4\n",
      "2023-12-13 19:16:42.500575: I tensorflow/cc/saved_model/reader.cc:89] Reading meta graph with tags { serve }\n",
      "2023-12-13 19:16:42.500601: I tensorflow/cc/saved_model/reader.cc:130] Reading SavedModel debug info (if present) from: translate_manipuri_model/4\n",
      "2023-12-13 19:16:42.681628: I tensorflow/compiler/mlir/mlir_graph_optimization_pass.cc:357] MLIR V1 optimization pass is not enabled\n",
      "2023-12-13 19:16:42.731880: I tensorflow/cc/saved_model/loader.cc:229] Restoring SavedModel bundle.\n",
      "2023-12-13 19:16:43.644843: I tensorflow/cc/saved_model/loader.cc:213] Running initialization op on SavedModel bundle at path: translate_manipuri_model/4\n",
      "2023-12-13 19:16:44.046130: I tensorflow/cc/saved_model/loader.cc:305] SavedModel load for tags { serve }; Status: success: OK. Took 1608543 microseconds.\n",
      "2023-12-13 19:16:44.968495: I tensorflow/compiler/mlir/tensorflow/utils/dump_mlir_util.cc:268] disabling MLIR crash reproducer, set env var `MLIR_CRASH_REPRODUCER_DIRECTORY` to enable.\n",
      "2023-12-13 19:16:46.383755: W tensorflow/compiler/mlir/lite/flatbuffer_export.cc:2035] Graph contains the following resource op(s), that use(s) resource type. Currently, the resource type is not natively supported in TFLite. Please consider not using the resource type if there are issues with either TFLite converter or TFLite runtime:\n",
      "Resource ops: HashTableV2, LookupTableExportV2, LookupTableFindV2, LookupTableSizeV2, WordpieceTokenizeWithOffsets\n",
      "Details:\n",
      "\ttf.HashTableV2() -> (tensor<!tf_type.resource>) : {container = \"\", device = \"\", key_dtype = !tf_type.string, shared_name = \"hash_table_en_vocab.txt_-2_-1_load_18_1360\", use_node_name_sharing = true, value_dtype = i64}\n",
      "\ttf.HashTableV2() -> (tensor<!tf_type.resource>) : {container = \"\", device = \"\", key_dtype = !tf_type.string, shared_name = \"hash_table_mn_vocab.txt_-2_-1_load_18_913\", use_node_name_sharing = true, value_dtype = i64}\n",
      "\ttf.LookupTableExportV2(tensor<!tf_type.resource>) -> (tensor<*x!tf_type.string>, tensor<*xi64>) : {device = \"\"}\n",
      "\ttf.LookupTableFindV2(tensor<!tf_type.resource>, tensor<?x!tf_type.string>, tensor<i64>) -> (tensor<*xi64>) : {device = \"\"}\n",
      "\ttf.LookupTableSizeV2(tensor<!tf_type.resource>) -> (tensor<i64>) : {device = \"\"}\n",
      "\ttf.WordpieceTokenizeWithOffsets(tensor<0x!tf_type.string>, tensor<!tf_type.resource>) -> (tensor<?x!tf_type.string>, tensor<1xi64>, tensor<?xi64>, tensor<?xi64>) : {device = \"\", max_bytes_per_word = 100 : i64, max_chars_per_token = 0 : i64, output_row_partition_type = \"row_splits\", split_unknown_characters = false, suffix_indicator = \"##\", unknown_token = \"[UNK]\", use_unknown_token = true}\n",
      "\ttf.WordpieceTokenizeWithOffsets(tensor<?x!tf_type.string>, tensor<!tf_type.resource>) -> (tensor<?x!tf_type.string>, tensor<?xi64>, tensor<?xi64>, tensor<?xi64>) : {device = \"\", max_bytes_per_word = 100 : i64, max_chars_per_token = 0 : i64, output_row_partition_type = \"row_splits\", split_unknown_characters = false, suffix_indicator = \"##\", unknown_token = \"[UNK]\", use_unknown_token = true}\n",
      "2023-12-13 19:16:46.383793: W tensorflow/compiler/mlir/lite/flatbuffer_export.cc:2046] TFLite interpreter needs to link Flex delegate in order to run the model since it contains the following Select TFop(s):\n",
      "Flex ops: FlexBincount, FlexCaseFoldUTF8, FlexConcatV2, FlexEnsureShape, FlexHashTableV2, FlexLookupTableExportV2, FlexLookupTableFindV2, FlexLookupTableSizeV2, FlexNormalizeUTF8, FlexRaggedGather, FlexRaggedTensorToTensor, FlexRange, FlexRegexSplitWithOffsets, FlexStaticRegexFullMatch, FlexStaticRegexReplace, FlexStridedSlice, FlexStringSplitV2, FlexStringToHashBucketFast, FlexTensorListLength, FlexTensorListReserve, FlexTensorListResize, FlexTensorListSetItem, FlexTensorListStack, FlexUnsortedSegmentJoin, FlexUnsortedSegmentSum, FlexWordpieceTokenizeWithOffsets\n",
      "Details:\n",
      "\ttf.Bincount(tensor<?xi32>, tensor<i32>, tensor<0xi64>) -> (tensor<?xi64>) : {device = \"\"}\n",
      "\ttf.CaseFoldUTF8(tensor<?x!tf_type.string>) -> (tensor<?x!tf_type.string>) : {device = \"\"}\n",
      "\ttf.ConcatV2(tensor<?x!tf_type.string>, tensor<1x!tf_type.string>, tensor<i32>) -> (tensor<?x!tf_type.string>) : {device = \"\"}\n",
      "\ttf.EnsureShape(tensor<*x!tf_type.string>) -> (tensor<?x!tf_type.string>) : {device = \"\", shape = #tf_type.shape<?>}\n",
      "\ttf.EnsureShape(tensor<*xi64>) -> (tensor<?xi64>) : {device = \"\", shape = #tf_type.shape<?>}\n",
      "\ttf.HashTableV2() -> (tensor<!tf_type.resource>) : {container = \"\", device = \"\", key_dtype = !tf_type.string, shared_name = \"hash_table_en_vocab.txt_-2_-1_load_18_1360\", use_node_name_sharing = true, value_dtype = i64}\n",
      "\ttf.HashTableV2() -> (tensor<!tf_type.resource>) : {container = \"\", device = \"\", key_dtype = !tf_type.string, shared_name = \"hash_table_mn_vocab.txt_-2_-1_load_18_913\", use_node_name_sharing = true, value_dtype = i64}\n",
      "\ttf.LookupTableExportV2(tensor<!tf_type.resource>) -> (tensor<*x!tf_type.string>, tensor<*xi64>) : {device = \"\"}\n",
      "\ttf.LookupTableFindV2(tensor<!tf_type.resource>, tensor<?x!tf_type.string>, tensor<i64>) -> (tensor<*xi64>) : {device = \"\"}\n",
      "\ttf.LookupTableSizeV2(tensor<!tf_type.resource>) -> (tensor<i64>) : {device = \"\"}\n",
      "\ttf.NormalizeUTF8(tensor<?x!tf_type.string>) -> (tensor<?x!tf_type.string>) : {device = \"\", normalization_form = \"NFD\"}\n",
      "\ttf.RaggedGather(tensor<?xi64>, tensor<?xi64>, tensor<?xi64>) -> (tensor<?xi64>, tensor<?xi64>) : {device = \"\"}\n",
      "\ttf.RaggedTensorToTensor(tensor<i64>, tensor<?xi64>, tensor<i64>, tensor<?xi64>) -> (tensor<?x?xi64>) : {T = i64, Tindex = i64, Tshape = i64, device = \"\", num_row_partition_tensors = 1 : i64, row_partition_types = [\"ROW_SPLITS\"]}\n",
      "\ttf.Range(tensor<i64>, tensor<i64>, tensor<i64>) -> (tensor<?xi64>) : {device = \"\"}\n",
      "\ttf.RegexSplitWithOffsets(tensor<?x!tf_type.string>, tensor<!tf_type.string>, tensor<!tf_type.string>) -> (tensor<?x!tf_type.string>, tensor<?xi64>, tensor<?xi64>, tensor<?xi64>) : {device = \"\"}\n",
      "\ttf.StaticRegexFullMatch(tensor<?x!tf_type.string>) -> (tensor<?xi1>) : {device = \"\", pattern = \"\\\\[PAD\\\\]|\\\\[START\\\\]|\\\\[END\\\\]\"}\n",
      "\ttf.StaticRegexReplace(tensor<1x!tf_type.string>) -> (tensor<1x!tf_type.string>) : {device = \"\", pattern = \" \\\\#\\\\#\", replace_global = true, rewrite = \"\"}\n",
      "\ttf.StaticRegexReplace(tensor<1x!tf_type.string>) -> (tensor<1x!tf_type.string>) : {device = \"\", pattern = \"^ +| +$\", replace_global = true, rewrite = \"\"}\n",
      "\ttf.StaticRegexReplace(tensor<?x!tf_type.string>) -> (tensor<?x!tf_type.string>) : {device = \"\", pattern = \"\\\\p{Cc}|\\\\p{Cf}\", replace_global = true, rewrite = \" \"}\n",
      "\ttf.StaticRegexReplace(tensor<?x!tf_type.string>) -> (tensor<?x!tf_type.string>) : {device = \"\", pattern = \"\\\\p{Mn}\", replace_global = true, rewrite = \"\"}\n",
      "\ttf.StridedSlice(tensor<?x?xi1>, tensor<3xi32>, tensor<3xi32>, tensor<3xi32>) -> (tensor<?x1x?xi1>) : {begin_mask = 5 : i64, device = \"\", ellipsis_mask = 0 : i64, end_mask = 5 : i64, new_axis_mask = 2 : i64, shrink_axis_mask = 0 : i64}\n",
      "\ttf.StridedSlice(tensor<?x?xi1>, tensor<3xi32>, tensor<3xi32>, tensor<3xi32>) -> (tensor<?x?x1xi1>) : {begin_mask = 3 : i64, device = \"\", ellipsis_mask = 0 : i64, end_mask = 3 : i64, new_axis_mask = 4 : i64, shrink_axis_mask = 0 : i64}\n",
      "\ttf.StringSplitV2(tensor<1x!tf_type.string>, tensor<!tf_type.string>) -> (tensor<?x2xi64>, tensor<?x!tf_type.string>, tensor<2xi64>) : {device = \"\", maxsplit = -1 : i64}\n",
      "\ttf.StringToHashBucketFast(tensor<?x!tf_type.string>) -> (tensor<?xi64>) : {device = \"\", num_buckets = 1 : i64}\n",
      "\ttf.TensorListLength(tensor<!tf_type.variant<tensor<*xi64>>>) -> (tensor<i32>) : {device = \"\"}\n",
      "\ttf.TensorListReserve(tensor<i32>, tensor<i32>) -> (tensor<!tf_type.variant<tensor<*xi64>>>) : {device = \"\"}\n",
      "\ttf.TensorListResize(tensor<!tf_type.variant<tensor<*xi64>>>, tensor<i32>) -> (tensor<!tf_type.variant>) : {device = \"\"}\n",
      "\ttf.TensorListSetItem(tensor<*x!tf_type.variant>, tensor<i32>, tensor<1xi64>) -> (tensor<!tf_type.variant<tensor<*xi64>>>) : {device = \"\"}\n",
      "\ttf.TensorListSetItem(tensor<*x!tf_type.variant>, tensor<i32>, tensor<?xi64>) -> (tensor<!tf_type.variant<tensor<*xi64>>>) : {device = \"\"}\n",
      "\ttf.TensorListStack(tensor<!tf_type.variant<tensor<*xi64>>>, tensor<1xi32>) -> (tensor<?x1xi64>) : {device = \"\", num_elements = -1 : i64}\n",
      "\ttf.UnsortedSegmentJoin(tensor<?x!tf_type.string>, tensor<?xi64>, tensor<i32>) -> (tensor<1x!tf_type.string>) : {Tindices = i64, Tnumsegments = i32, device = \"\", separator = \" \"}\n",
      "\ttf.UnsortedSegmentJoin(tensor<?x!tf_type.string>, tensor<?xi64>, tensor<i32>) -> (tensor<?x!tf_type.string>) : {Tindices = i64, Tnumsegments = i32, device = \"\", separator = \" \"}\n",
      "\ttf.UnsortedSegmentSum(tensor<?xi64>, tensor<?xi64>, tensor<i32>) -> (tensor<?xi64>) : {device = \"\"}\n",
      "\ttf.WordpieceTokenizeWithOffsets(tensor<0x!tf_type.string>, tensor<!tf_type.resource>) -> (tensor<?x!tf_type.string>, tensor<1xi64>, tensor<?xi64>, tensor<?xi64>) : {device = \"\", max_bytes_per_word = 100 : i64, max_chars_per_token = 0 : i64, output_row_partition_type = \"row_splits\", split_unknown_characters = false, suffix_indicator = \"##\", unknown_token = \"[UNK]\", use_unknown_token = true}\n",
      "\ttf.WordpieceTokenizeWithOffsets(tensor<?x!tf_type.string>, tensor<!tf_type.resource>) -> (tensor<?x!tf_type.string>, tensor<?xi64>, tensor<?xi64>, tensor<?xi64>) : {device = \"\", max_bytes_per_word = 100 : i64, max_chars_per_token = 0 : i64, output_row_partition_type = \"row_splits\", split_unknown_characters = false, suffix_indicator = \"##\", unknown_token = \"[UNK]\", use_unknown_token = true}\n",
      "See instructions: https://www.tensorflow.org/lite/guide/ops_select\n"
     ]
    }
   ],
   "source": [
    "tflite_model = converter.convert()\n",
    "# Save the model.\n",
    "model_name = \"tm_new1.tflite\"\n",
    "with open(model_name, 'wb') as f:\n",
    "  f.write(tflite_model)"
   ]
  },
  {
   "cell_type": "code",
   "execution_count": 4,
   "id": "752b1e5a-60ad-4eb7-9373-167f5ddd756b",
   "metadata": {},
   "outputs": [
    {
     "data": {
      "text/plain": [
       "'2.11.1'"
      ]
     },
     "execution_count": 4,
     "metadata": {},
     "output_type": "execute_result"
    }
   ],
   "source": [
    "tf.__version__"
   ]
  },
  {
   "cell_type": "markdown",
   "id": "2a86abbe-a7b7-466f-b08c-4ec234f54c59",
   "metadata": {},
   "source": [
    "**Verifying the tmlite model using the python code**"
   ]
  },
  {
   "cell_type": "code",
   "execution_count": 19,
   "id": "964257d9-fec3-4028-a642-b9c00943bb8e",
   "metadata": {},
   "outputs": [
    {
     "name": "stderr",
     "output_type": "stream",
     "text": [
      "INFO: Created TensorFlow Lite delegate for select TF ops.\n",
      "2023-12-13 19:20:25.991563: W tensorflow/core/common_runtime/gpu/gpu_device.cc:1934] Cannot dlopen some GPU libraries. Please make sure the missing libraries mentioned above are installed properly if you would like to use GPU. Follow the guide at https://www.tensorflow.org/install/gpu for how to download and setup the required libraries for your platform.\n",
      "Skipping registering GPU devices...\n",
      "INFO: TfLiteFlexDelegate delegate: 42 nodes delegated out of 272 nodes with 13 partitions.\n",
      "\n",
      "INFO: Created TensorFlow Lite XNNPACK delegate for CPU.\n"
     ]
    }
   ],
   "source": [
    "# Load the TFLite model and allocate tensors.\n",
    "interpreter = tf.lite.Interpreter(model_path=model_name)\n",
    "interpreter.allocate_tensors()\n"
   ]
  },
  {
   "cell_type": "code",
   "execution_count": 20,
   "id": "5ec8e3d2-84a2-48ad-adc4-6b47a4710455",
   "metadata": {},
   "outputs": [],
   "source": [
    "# Get input and output tensors.\n",
    "input_details = interpreter.get_input_details()\n",
    "output_details = interpreter.get_output_details()"
   ]
  },
  {
   "cell_type": "code",
   "execution_count": 21,
   "id": "b1c77e37-3526-47c6-9696-ae418fcabafe",
   "metadata": {},
   "outputs": [
    {
     "ename": "TypeError",
     "evalue": "SetTensor(): incompatible function arguments. The following argument types are supported:\n    1. (self: tensorflow.lite.python.interpreter_wrapper._pywrap_tensorflow_interpreter_wrapper.InterpreterWrapper, i: int, value: handle, subgraph_index: int = 0) -> object\n\nInvoked with: <tensorflow.lite.python.interpreter_wrapper._pywrap_tensorflow_interpreter_wrapper.InterpreterWrapper object at 0x7f3cdd1cf070>, [], <tf.Tensor: shape=(1,), dtype=string, numpy=array([b'We are the world'], dtype=object)>",
     "output_type": "error",
     "traceback": [
      "\u001b[0;31m---------------------------------------------------------------------------\u001b[0m",
      "\u001b[0;31mTypeError\u001b[0m                                 Traceback (most recent call last)",
      "Cell \u001b[0;32mIn [21], line 5\u001b[0m\n\u001b[1;32m      3\u001b[0m input_data \u001b[38;5;241m=\u001b[39m [\u001b[38;5;124m\"\u001b[39m\u001b[38;5;124mWe are the world\u001b[39m\u001b[38;5;124m\"\u001b[39m]\n\u001b[1;32m      4\u001b[0m input_data \u001b[38;5;241m=\u001b[39m tf\u001b[38;5;241m.\u001b[39mconstant(input_data)\n\u001b[0;32m----> 5\u001b[0m \u001b[43minterpreter\u001b[49m\u001b[38;5;241;43m.\u001b[39;49m\u001b[43mset_tensor\u001b[49m\u001b[43m(\u001b[49m\u001b[43m[\u001b[49m\u001b[43m]\u001b[49m\u001b[43m,\u001b[49m\u001b[43m \u001b[49m\u001b[43minput_data\u001b[49m\u001b[43m)\u001b[49m\n",
      "File \u001b[0;32m/media2/translateManipuriInstallation/miniconda3/envs/homl3/lib/python3.10/site-packages/tensorflow/lite/python/interpreter.py:697\u001b[0m, in \u001b[0;36mInterpreter.set_tensor\u001b[0;34m(self, tensor_index, value)\u001b[0m\n\u001b[1;32m    681\u001b[0m \u001b[38;5;28;01mdef\u001b[39;00m \u001b[38;5;21mset_tensor\u001b[39m(\u001b[38;5;28mself\u001b[39m, tensor_index, value):\n\u001b[1;32m    682\u001b[0m \u001b[38;5;250m  \u001b[39m\u001b[38;5;124;03m\"\"\"Sets the value of the input tensor.\u001b[39;00m\n\u001b[1;32m    683\u001b[0m \n\u001b[1;32m    684\u001b[0m \u001b[38;5;124;03m  Note this copies data in `value`.\u001b[39;00m\n\u001b[0;32m   (...)\u001b[0m\n\u001b[1;32m    695\u001b[0m \u001b[38;5;124;03m    ValueError: If the interpreter could not set the tensor.\u001b[39;00m\n\u001b[1;32m    696\u001b[0m \u001b[38;5;124;03m  \"\"\"\u001b[39;00m\n\u001b[0;32m--> 697\u001b[0m   \u001b[38;5;28;43mself\u001b[39;49m\u001b[38;5;241;43m.\u001b[39;49m\u001b[43m_interpreter\u001b[49m\u001b[38;5;241;43m.\u001b[39;49m\u001b[43mSetTensor\u001b[49m\u001b[43m(\u001b[49m\u001b[43mtensor_index\u001b[49m\u001b[43m,\u001b[49m\u001b[43m \u001b[49m\u001b[43mvalue\u001b[49m\u001b[43m)\u001b[49m\n",
      "\u001b[0;31mTypeError\u001b[0m: SetTensor(): incompatible function arguments. The following argument types are supported:\n    1. (self: tensorflow.lite.python.interpreter_wrapper._pywrap_tensorflow_interpreter_wrapper.InterpreterWrapper, i: int, value: handle, subgraph_index: int = 0) -> object\n\nInvoked with: <tensorflow.lite.python.interpreter_wrapper._pywrap_tensorflow_interpreter_wrapper.InterpreterWrapper object at 0x7f3cdd1cf070>, [], <tf.Tensor: shape=(1,), dtype=string, numpy=array([b'We are the world'], dtype=object)>"
     ]
    }
   ],
   "source": [
    "# Test the model on random input data.\n",
    "#input_shape = input_details[0]['shape']\n",
    "input_data = [\"We are the world\"]\n",
    "input_data = tf.constant(input_data)\n",
    "interpreter.set_tensor([], input_data)"
   ]
  },
  {
   "cell_type": "code",
   "execution_count": null,
   "id": "80f82b98-5d1a-4c73-bb7f-a57892a8911a",
   "metadata": {},
   "outputs": [],
   "source": []
  }
 ],
 "metadata": {
  "kernelspec": {
   "display_name": "Python 3 (ipykernel)",
   "language": "python",
   "name": "python3"
  },
  "language_info": {
   "codemirror_mode": {
    "name": "ipython",
    "version": 3
   },
   "file_extension": ".py",
   "mimetype": "text/x-python",
   "name": "python",
   "nbconvert_exporter": "python",
   "pygments_lexer": "ipython3",
   "version": "3.10.10"
  }
 },
 "nbformat": 4,
 "nbformat_minor": 5
}
